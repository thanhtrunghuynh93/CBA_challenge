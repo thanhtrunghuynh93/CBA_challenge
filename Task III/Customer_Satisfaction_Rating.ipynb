{
 "cells": [
  {
   "cell_type": "markdown",
   "id": "521aa01a-9a9b-4e95-beb5-fbea6e21c789",
   "metadata": {},
   "source": [
    "# Build an AI model to predict customer satisfaction rating. \n",
    "Q1: Design an AI model to predict the customer satisfaction rating\n",
    "\n",
    "**Process:**\n",
    "- Feature use: Customer Age group, Customer Gender, Ticket Content, Resolution, Ticket Sentiment, User Intent\n",
    "    - Customer Age group: categorical\n",
    "    - Customer Gender: categorical\n",
    "    - Ticket Content: text\n",
    "    - Resolution: text\n",
    "    - Ticket Sentiment: categorical\n",
    "    - User Intent: categorical\n",
    "- Target: Rating [1-5]\n",
    "- Pipeline: Preprocess Ticket Content and Resolution, then embed "
   ]
  },
  {
   "cell_type": "code",
   "execution_count": 1,
   "id": "dbadc73f-9b49-4ee7-aa85-648130761d21",
   "metadata": {},
   "outputs": [],
   "source": [
    "import pandas as pd\n",
    "df = pd.read_csv(\"../customer_support_tickets.csv\")"
   ]
  },
  {
   "cell_type": "code",
   "execution_count": 2,
   "id": "859c9ea4-6a7a-4403-b143-2a283e875823",
   "metadata": {},
   "outputs": [],
   "source": [
    "df.loc[df[\"Customer Age\"] < 30, \"Customer Age Group\"] = \"Younger\"\n",
    "df.loc[(df[\"Customer Age\"] >= 30) & (df[\"Customer Age\"] < 45), \"Customer Age Group\"] = \"Middle\"\n",
    "df.loc[df[\"Customer Age\"] >= 45, \"Customer Age Group\"] = \"Elder\""
   ]
  },
  {
   "cell_type": "code",
   "execution_count": 3,
   "id": "b53ffdcb-d3e1-478d-a003-8f581447a449",
   "metadata": {},
   "outputs": [
    {
     "name": "stderr",
     "output_type": "stream",
     "text": [
      "/home/trunght/miniconda3/envs/llm/lib/python3.11/site-packages/torch/cuda/__init__.py:141: UserWarning: CUDA initialization: CUDA unknown error - this may be due to an incorrectly set up environment, e.g. changing env variable CUDA_VISIBLE_DEVICES after program start. Setting the available devices to be zero. (Triggered internally at ../c10/cuda/CUDAFunctions.cpp:108.)\n",
      "  return torch._C._cuda_getDeviceCount() > 0\n"
     ]
    }
   ],
   "source": [
    "import re\n",
    "import nltk\n",
    "import spacy\n",
    "import torch\n",
    "from torch.utils.data import Dataset, DataLoader\n",
    "from torchtext.data.utils import get_tokenizer\n",
    "from transformers import AutoTokenizer\n",
    "from torchtext.vocab import build_vocab_from_iterator\n",
    "from collections import Counter\n",
    "\n",
    "# Remove non-informative phrase\n",
    "phrases_to_remove = [\n",
    "    r\"i'?m having an issue with (the )?\\{?product_purchased\\}?\\s*\\.?\",\n",
    "    r\"please assist\\.?\",\n",
    "    r\"let me know\\.?\",\n",
    "    r\"thank you\\.?\",\n",
    "]\n",
    "phrase_pattern = re.compile(r\"|\".join(phrases_to_remove), re.IGNORECASE)\n",
    "\n",
    "def clean_text(text):\n",
    "    text = phrase_pattern.sub(\"\", text)\n",
    "    text = re.sub(r\"\\s+\", \" \", text)\n",
    "\n",
    "    return text\n",
    "\n",
    "def ticket_content_wrapper(ticket):\n",
    "    return f'Ticket Type: {ticket[\"Ticket Type\"]}, Ticket Subject: {ticket[\"Ticket Subject\"]}, Ticket Description: {ticket[\"Ticket Description Processed\"]}'\n",
    "    \n",
    "df[\"Ticket Description Processed\"] = df[\"Ticket Description\"].apply(clean_text)\n",
    "df['Ticket Content'] = df.apply(ticket_content_wrapper, axis=1)"
   ]
  },
  {
   "cell_type": "code",
   "execution_count": 4,
   "id": "5072f2a0-8bb4-437c-8513-7d7a728362e1",
   "metadata": {},
   "outputs": [],
   "source": [
    "import torch\n",
    "from torch.utils.data import Dataset\n",
    "from transformers import BertTokenizer\n",
    "\n",
    "class TicketDataset(Dataset):\n",
    "    def __init__(self, dataframe, tokenizer_name=\"bert-base-uncased\", max_length=128):\n",
    "        self.df = dataframe.reset_index(drop=True)\n",
    "        self.tokenizer = BertTokenizer.from_pretrained(tokenizer_name)\n",
    "        self.max_length = max_length\n",
    "\n",
    "        self.age_map = {age: i for i, age in enumerate(self.df['Customer Age Group'].unique())}\n",
    "        self.gender_map = {gender: i for i, gender in enumerate(self.df['Customer Gender'].unique())}\n",
    "        self.label_map = {rating: i for i, rating in enumerate(sorted(self.df['Customer Satisfaction Rating'].unique()))}\n",
    "        self.inverse_label_map = {v: k for k, v in self.label_map.items()}\n",
    "\n",
    "    def __len__(self):\n",
    "        return len(self.df)\n",
    "\n",
    "    def __getitem__(self, idx):\n",
    "        row = self.df.iloc[idx]\n",
    "\n",
    "        age_group = torch.tensor(self.age_map[row['Customer Age Group']], dtype=torch.long)\n",
    "        gender = torch.tensor(self.gender_map[row['Customer Gender']], dtype=torch.long)\n",
    "\n",
    "        ticket_tokens = self.tokenizer(\n",
    "            row['Ticket Content'],\n",
    "            padding='max_length',\n",
    "            truncation=True,\n",
    "            max_length=self.max_length,\n",
    "            return_tensors=\"pt\"\n",
    "        )\n",
    "\n",
    "        resolution_tokens = self.tokenizer(\n",
    "            row['Resolution'],\n",
    "            padding='max_length',\n",
    "            truncation=True,\n",
    "            max_length=self.max_length,\n",
    "            return_tensors=\"pt\"\n",
    "        )\n",
    "\n",
    "        target = torch.tensor(self.label_map[row['Customer Satisfaction Rating']], dtype=torch.long)\n",
    "\n",
    "        return {\n",
    "            \"age_group\": age_group,\n",
    "            \"gender\": gender,\n",
    "            \"ticket_input_ids\": ticket_tokens[\"input_ids\"].squeeze(0),\n",
    "            \"ticket_attention_mask\": ticket_tokens[\"attention_mask\"].squeeze(0),\n",
    "            \"resolution_input_ids\": resolution_tokens[\"input_ids\"].squeeze(0),\n",
    "            \"resolution_attention_mask\": resolution_tokens[\"attention_mask\"].squeeze(0),\n",
    "            \"target\": target\n",
    "        }"
   ]
  },
  {
   "cell_type": "code",
   "execution_count": 5,
   "id": "a61e6684-fa2e-4fbf-8f18-92849cf8fb12",
   "metadata": {},
   "outputs": [
    {
     "name": "stdout",
     "output_type": "stream",
     "text": [
      "age_group: torch.Size([32])\n",
      "gender: torch.Size([32])\n",
      "ticket_input_ids: torch.Size([32, 128])\n",
      "ticket_attention_mask: torch.Size([32, 128])\n",
      "resolution_input_ids: torch.Size([32, 128])\n",
      "resolution_attention_mask: torch.Size([32, 128])\n",
      "target: torch.Size([32])\n"
     ]
    }
   ],
   "source": [
    "df_closed = df[df[\"Ticket Status\"] == \"Closed\"]\n",
    "ticket_dataset = TicketDataset(dataframe=df_closed, tokenizer_name=\"bert-base-uncased\", max_length=128)\n",
    "\n",
    "ticket_dataloader = DataLoader(\n",
    "    ticket_dataset,\n",
    "    batch_size=32,\n",
    "    shuffle=True,     \n",
    ")\n",
    "\n",
    "batch = next(iter(ticket_dataloader))\n",
    "for key, value in batch.items():\n",
    "    print(f\"{key}: {value.shape}\")"
   ]
  },
  {
   "cell_type": "code",
   "execution_count": 6,
   "id": "c9895e0f-0703-4ab0-8e24-699ae4cbe3a6",
   "metadata": {},
   "outputs": [],
   "source": [
    "import torch.nn as nn\n",
    "from transformers import BertModel\n",
    "\n",
    "class RatingPredictor(nn.Module):\n",
    "    def __init__(self, \n",
    "                 bert_model_name=\"bert-base-uncased\", \n",
    "                 age_vocab_size=3, \n",
    "                 gender_vocab_size=3, \n",
    "                 embed_dim=32,\n",
    "                 num_classes=5):\n",
    "        super(RatingPredictor, self).__init__()\n",
    "\n",
    "        self.bert = BertModel.from_pretrained(bert_model_name)\n",
    "        self.age_embed = nn.Embedding(age_vocab_size, embed_dim)\n",
    "        self.gender_embed = nn.Embedding(gender_vocab_size, embed_dim)\n",
    "\n",
    "        total_input_dim = 2 * self.bert.config.hidden_size + 2 * embed_dim\n",
    "\n",
    "        self.classifier = nn.Sequential(\n",
    "            nn.Linear(total_input_dim, 256),\n",
    "            nn.ReLU(),\n",
    "            nn.Dropout(0.3),\n",
    "            nn.Linear(256, 64),\n",
    "            nn.ReLU(),\n",
    "            nn.Dropout(0.2),\n",
    "            nn.Linear(64, num_classes) \n",
    "        )\n",
    "\n",
    "    def forward(self, \n",
    "                ticket_input_ids, ticket_attention_mask, \n",
    "                resolution_input_ids, resolution_attention_mask, \n",
    "                age_group, gender):\n",
    "\n",
    "        ticket_out = self.bert(ticket_input_ids, attention_mask=ticket_attention_mask)\n",
    "        resolution_out = self.bert(resolution_input_ids, attention_mask=resolution_attention_mask)\n",
    "\n",
    "        ticket_cls = ticket_out.last_hidden_state[:, 0, :]\n",
    "        resolution_cls = resolution_out.last_hidden_state[:, 0, :]\n",
    "\n",
    "        age_emb = self.age_embed(age_group)\n",
    "        gender_emb = self.gender_embed(gender)\n",
    "\n",
    "        combined = torch.cat([ticket_cls, resolution_cls, age_emb, gender_emb], dim=1)\n",
    "        logits = self.classifier(combined)  # No activation here\n",
    "\n",
    "        return logits"
   ]
  },
  {
   "cell_type": "code",
   "execution_count": 7,
   "id": "46272eb6-c6c1-450c-a4a7-05265b9854e8",
   "metadata": {},
   "outputs": [],
   "source": [
    "from torch.utils.data import random_split, DataLoader\n",
    "\n",
    "def collate_fn(batch):\n",
    "    batch_dict = {}\n",
    "\n",
    "    for key in batch[0]:\n",
    "        if isinstance(batch[0][key], torch.Tensor):\n",
    "            batch_dict[key] = torch.stack([item[key] for item in batch])\n",
    "        else:\n",
    "            batch_dict[key] = [item[key] for item in batch]\n",
    "\n",
    "    return batch_dict\n",
    "\n",
    "dataset = TicketDataset(df_closed)  \n",
    "dataloader = DataLoader(dataset, batch_size=16, collate_fn=collate_fn)\n",
    "\n",
    "total_size = len(dataset)\n",
    "train_size = int(0.8 * total_size)\n",
    "val_size = int(0.1 * total_size)\n",
    "test_size = total_size - train_size - val_size  # Ensure all data is used\n",
    "\n",
    "# Split the dataset\n",
    "train_dataset, val_dataset, test_dataset = random_split(dataset, [train_size, val_size, test_size])\n",
    "train_loader = DataLoader(train_dataset, batch_size=16, shuffle=True, collate_fn=collate_fn)\n",
    "val_loader = DataLoader(val_dataset, batch_size=16, shuffle=False, collate_fn=collate_fn)\n",
    "test_loader = DataLoader(test_dataset, batch_size=16, shuffle=False, collate_fn=collate_fn)"
   ]
  },
  {
   "cell_type": "code",
   "execution_count": 8,
   "id": "af6fe121-2c39-4fb7-8311-9cf84e7bbad7",
   "metadata": {},
   "outputs": [],
   "source": [
    "from torch import nn, optim\n",
    "from tqdm import tqdm\n",
    "\n",
    "device = \"cuda\" if torch.cuda.is_available() else \"cpu\"\n",
    "\n",
    "model = RatingPredictor(num_classes=5).to(device)\n",
    "criterion = nn.CrossEntropyLoss()\n",
    "optimizer = optim.AdamW(model.parameters(), lr=2e-5)\n",
    "\n",
    "def train(model, train_loader, val_loader, criterion, optimizer, device, epochs=5):\n",
    "    for epoch in range(epochs):\n",
    "        model.train()\n",
    "        total_loss = 0\n",
    "        correct, total = 0, 0\n",
    "\n",
    "        for batch in tqdm(train_loader, desc=f\"Epoch {epoch+1}/{epochs} - Training\"):\n",
    "            optimizer.zero_grad()\n",
    "            inputs = {k: v.to(device) for k, v in batch.items() if k != \"target\"}\n",
    "            targets = batch[\"target\"].to(device)\n",
    "            \n",
    "            outputs = model(**inputs)\n",
    "            loss = criterion(outputs, targets)\n",
    "            loss.backward()\n",
    "            optimizer.step()\n",
    "\n",
    "            total_loss += loss.item()\n",
    "            preds = outputs.argmax(dim=1)\n",
    "            correct += (preds == targets).sum().item()\n",
    "            total += targets.size(0)\n",
    "\n",
    "        avg_loss = total_loss / len(train_loader)\n",
    "        acc = correct / total\n",
    "        print(f\"Train Loss: {avg_loss:.4f}, Accuracy: {acc:.4f}\")\n",
    "\n",
    "        evaluate(model, val_loader, criterion, device)\n",
    "\n",
    "    return model\n",
    "\n",
    "def evaluate(model, val_loader, criterion, device):\n",
    "    model.eval()\n",
    "    total_loss = 0\n",
    "    correct, total = 0, 0\n",
    "\n",
    "    with torch.no_grad():\n",
    "        for batch in tqdm(val_loader, desc=\"Validation\", leave=False):\n",
    "            inputs = {k: v.to(device) for k, v in batch.items() if k != \"target\"}\n",
    "            targets = batch[\"target\"].to(device)\n",
    "\n",
    "            outputs = model(**inputs)\n",
    "            loss = criterion(outputs, targets)\n",
    "\n",
    "            total_loss += loss.item()\n",
    "            preds = outputs.argmax(dim=1)\n",
    "            correct += (preds == targets).sum().item()\n",
    "            total += targets.size(0)\n",
    "\n",
    "    avg_loss = total_loss / len(val_loader)\n",
    "    acc = correct / total\n",
    "    print(f\"Val Loss: {avg_loss:.4f}, Accuracy: {acc:.4f}\")"
   ]
  },
  {
   "cell_type": "code",
   "execution_count": 9,
   "id": "1aa64ca4-56bd-43ad-9978-6295cbb66588",
   "metadata": {},
   "outputs": [
    {
     "name": "stderr",
     "output_type": "stream",
     "text": [
      "Epoch 1/5 - Training: 100%|█████████████████████████████████████████████████████████████████████| 139/139 [09:06<00:00,  3.93s/it]\n"
     ]
    },
    {
     "name": "stdout",
     "output_type": "stream",
     "text": [
      "Train Loss: 1.6111, Accuracy: 0.2014\n"
     ]
    },
    {
     "name": "stderr",
     "output_type": "stream",
     "text": [
      "                                                                                                                                  "
     ]
    },
    {
     "name": "stdout",
     "output_type": "stream",
     "text": [
      "Val Loss: 1.6093, Accuracy: 0.1884\n"
     ]
    },
    {
     "name": "stderr",
     "output_type": "stream",
     "text": [
      "Epoch 2/5 - Training: 100%|█████████████████████████████████████████████████████████████████████| 139/139 [09:27<00:00,  4.08s/it]\n"
     ]
    },
    {
     "name": "stdout",
     "output_type": "stream",
     "text": [
      "Train Loss: 1.6087, Accuracy: 0.2059\n"
     ]
    },
    {
     "name": "stderr",
     "output_type": "stream",
     "text": [
      "                                                                                                                                  "
     ]
    },
    {
     "name": "stdout",
     "output_type": "stream",
     "text": [
      "Val Loss: 1.6123, Accuracy: 0.1812\n"
     ]
    },
    {
     "name": "stderr",
     "output_type": "stream",
     "text": [
      "Epoch 3/5 - Training: 100%|█████████████████████████████████████████████████████████████████████| 139/139 [09:10<00:00,  3.96s/it]\n"
     ]
    },
    {
     "name": "stdout",
     "output_type": "stream",
     "text": [
      "Train Loss: 1.6082, Accuracy: 0.2176\n"
     ]
    },
    {
     "name": "stderr",
     "output_type": "stream",
     "text": [
      "                                                                                                                                  "
     ]
    },
    {
     "name": "stdout",
     "output_type": "stream",
     "text": [
      "Val Loss: 1.6130, Accuracy: 0.1884\n"
     ]
    },
    {
     "name": "stderr",
     "output_type": "stream",
     "text": [
      "Epoch 4/5 - Training: 100%|█████████████████████████████████████████████████████████████████████| 139/139 [09:27<00:00,  4.08s/it]\n"
     ]
    },
    {
     "name": "stdout",
     "output_type": "stream",
     "text": [
      "Train Loss: 1.6017, Accuracy: 0.2257\n"
     ]
    },
    {
     "name": "stderr",
     "output_type": "stream",
     "text": [
      "                                                                                                                                  "
     ]
    },
    {
     "name": "stdout",
     "output_type": "stream",
     "text": [
      "Val Loss: 1.6242, Accuracy: 0.1848\n"
     ]
    },
    {
     "name": "stderr",
     "output_type": "stream",
     "text": [
      "Epoch 5/5 - Training: 100%|█████████████████████████████████████████████████████████████████████| 139/139 [09:32<00:00,  4.12s/it]\n"
     ]
    },
    {
     "name": "stdout",
     "output_type": "stream",
     "text": [
      "Train Loss: 1.5698, Accuracy: 0.2980\n"
     ]
    },
    {
     "name": "stderr",
     "output_type": "stream",
     "text": [
      "                                                                                                                                  "
     ]
    },
    {
     "name": "stdout",
     "output_type": "stream",
     "text": [
      "Val Loss: 1.6735, Accuracy: 0.1594\n"
     ]
    },
    {
     "name": "stderr",
     "output_type": "stream",
     "text": []
    }
   ],
   "source": [
    "trained_model = train(model, train_loader, val_loader, criterion, optimizer, device, epochs=5)\n"
   ]
  },
  {
   "cell_type": "code",
   "execution_count": null,
   "id": "f841c10a-5a1f-44f3-84f7-d1aadbac949f",
   "metadata": {},
   "outputs": [],
   "source": []
  }
 ],
 "metadata": {
  "kernelspec": {
   "display_name": "Python 3 (ipykernel)",
   "language": "python",
   "name": "python3"
  },
  "language_info": {
   "codemirror_mode": {
    "name": "ipython",
    "version": 3
   },
   "file_extension": ".py",
   "mimetype": "text/x-python",
   "name": "python",
   "nbconvert_exporter": "python",
   "pygments_lexer": "ipython3",
   "version": "3.11.11"
  }
 },
 "nbformat": 4,
 "nbformat_minor": 5
}
