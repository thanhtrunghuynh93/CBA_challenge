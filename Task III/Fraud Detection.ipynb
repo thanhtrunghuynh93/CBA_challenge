{
 "cells": [
  {
   "cell_type": "markdown",
   "id": "521aa01a-9a9b-4e95-beb5-fbea6e21c789",
   "metadata": {},
   "source": [
    "# Fraud detection\n",
    "\n",
    "**Process:**\n",
    "- The dataset seems to contains ticket with code injection and text with html tags\n",
    "- Solution: Build filter for such cases as 2 additional features"
   ]
  },
  {
   "cell_type": "code",
   "execution_count": 1,
   "id": "89cfea4d-8937-4d8b-8a4b-e318c0ef8058",
   "metadata": {},
   "outputs": [],
   "source": [
    "import pandas as pd\n",
    "df = pd.read_csv(\"../customer_support_tickets_processed.csv\")"
   ]
  },
  {
   "cell_type": "code",
   "execution_count": 2,
   "id": "f8111a9d-cbe7-4eda-a76c-7daccd4ec2b7",
   "metadata": {},
   "outputs": [],
   "source": [
    "import re\n",
    "\n",
    "def is_contains_html(text):\n",
    "    html_tag_pattern = re.compile(r\"<[^>]+>\")\n",
    "    return bool(html_tag_pattern.search(text))\n",
    "\n",
    "def is_contains_code_injection(text):\n",
    "    injection_keywords = [\n",
    "    # JS functions / payloads\n",
    "    'eval(', 'alert(', 'prompt(', 'console.log', 'Function(', 'setTimeout(', 'setInterval(',\n",
    "\n",
    "    # SQL injection patterns\n",
    "    \"' OR '1'='1\", \"' OR 1=1 --\", \"'; DROP TABLE\", \"'; EXEC\", \n",
    "    'UNION SELECT', 'SELECT * FROM', 'INSERT INTO', 'DROP TABLE', 'UPDATE SET', \n",
    "    'DELETE FROM', 'xp_cmdshell', 'sp_executesql',\n",
    "\n",
    "    # Encoded variants (URL or base64)\n",
    "    '%3Cscript%3E', 'base64,', 'data:text/html',\n",
    "\n",
    "    # Suspicious paths\n",
    "    '/etc/passwd', '../', '..\\\\', '%00',\n",
    "    ]\n",
    "    \n",
    "    return any(kw.lower() in text.lower() for kw in injection_keywords)\n",
    "\n",
    "df['has_html'] = df['Ticket Description'].apply(is_contains_html)\n",
    "df['has_code_injection'] = df['Ticket Description'].apply(is_contains_code_injection)\n"
   ]
  },
  {
   "cell_type": "code",
   "execution_count": 3,
   "id": "fc187575-f064-4647-849f-bbdfff579677",
   "metadata": {},
   "outputs": [
    {
     "name": "stdout",
     "output_type": "stream",
     "text": [
      "There are 199 tickets contains html tags\n",
      "Some examples:\n",
      "\n",
      "I'm having an issue with the {product_purchased}. Please assist.\n",
      "\n",
      "<p>\n",
      "\n",
      "A full time customer service representative will arrive soon.\n",
      "\n",
      "<p>\n",
      "\n",
      "If you would like to respond to a message I've tried different settings and configurations on my {product_purchased}, but the issue persists.\n",
      "--------------------------------------------------------------------------------\n",
      "I'm having an issue with the {product_purchased}. Please assist. </name> <product_purchased_url >http://www.kyle@junebug.com/tutorial/cure-all- I've tried troubleshooting steps mentioned in the user manual, but the issue persists.\n",
      "--------------------------------------------------------------------------------\n",
      "I'm having an issue with the {product_purchased}. Please assist. <s3> Please provide the product name, location and shipping address in the Product Overview. <s3> This message will be unread for 12 seconds. I've recently updated the firmware of my {product_purchased}, and the issue started happening afterward. Could it be related to the update?\n",
      "--------------------------------------------------------------------------------\n",
      "I'm having an issue with the {product_purchased}. Please assist.\n",
      "\n",
      "<input type=\"checkbox\" [(product_id (product_name)) as ProductKey,]>\n",
      "\n",
      "<input type=\"checkbox\" I've followed online tutorials and community forums to troubleshoot the issue, but no luck so far.\n",
      "--------------------------------------------------------------------------------\n",
      "I'm having an issue with the {product_purchased}. Please assist. <br> <br> <br> </p> <p> <blockquote lang=\"en\"><p>We have an issue with {product_p I've recently updated the firmware of my {product_purchased}, and the issue started happening afterward. Could it be related to the update?\n",
      "--------------------------------------------------------------------------------\n"
     ]
    }
   ],
   "source": [
    "print(f\"There are {len(df[df['has_html']])} tickets contains html tags\")\n",
    "print(\"Some examples:\\n\")\n",
    "for d in df[df['has_html']].head(5)[\"Ticket Description\"]:\n",
    "    print(d)\n",
    "    print(\"-\" * 80)"
   ]
  },
  {
   "cell_type": "code",
   "execution_count": 4,
   "id": "3c5fa8db-a7e1-4b9e-a7c6-64262ea45173",
   "metadata": {},
   "outputs": [
    {
     "name": "stdout",
     "output_type": "stream",
     "text": [
      "There are 5 tickets contains code injections\n",
      "Some examples:\n",
      "\n",
      "I'm having an issue with the {product_purchased}. Please assist. <script src=\"../libs/products/touches/touches.js\"></script>\n",
      "\n",
      "If we make our \"instructions\" I've noticed that the issue occurs consistently when I use a specific feature or application on my {product_purchased}.\n",
      "--------------------------------------------------------------------------------\n",
      "I'm having an issue with the {product_purchased}. Please assist. <script type=\"text/javascript\">(function() { var c1 = document.getElementById('Product')[1].parentNode; c1. The issue I'm facing is intermittent. Sometimes it works fine, but other times it acts up unexpectedly.\n",
      "--------------------------------------------------------------------------------\n",
      "I'm having an issue with the {product_purchased}. Please assist.\n",
      "\n",
      "You will need to enable JavaScript.\n",
      "\n",
      "$tw.ready(function() { console.log('Your purchase exceeded the {product_purchased I'm not sure if this issue is specific to my device or if others have reported similar problems.\n",
      "--------------------------------------------------------------------------------\n",
      "I'm having an issue with the {product_purchased}. Please assist. Also try clearing the cache on your router after clearing all cache/clusters.\n",
      "\n",
      "Update /delete from the cache\n",
      "\n",
      "Update the existing cached file. This I'm not sure if this issue is specific to my device or if others have reported similar problems.\n",
      "--------------------------------------------------------------------------------\n",
      "I'm having an issue with the {product_purchased}. Please assist.\n",
      "\n",
      "$( '#product-id' ).then( function( product ) { product = $.promotions[product]; $.promotional_title I'm using the original charger that came with my {product_purchased}, but it's not charging properly.\n",
      "--------------------------------------------------------------------------------\n"
     ]
    }
   ],
   "source": [
    "print(f\"There are {len(df[df['has_code_injection']])} tickets contains code injections\")\n",
    "print(\"Some examples:\\n\")\n",
    "for d in df[df['has_code_injection']].head(5)[\"Ticket Description\"]:\n",
    "    print(d)\n",
    "    print(\"-\" * 80)"
   ]
  },
  {
   "cell_type": "markdown",
   "id": "66a4a984-6bf4-48de-8663-6eabb6b46eef",
   "metadata": {},
   "source": [
    "For complaint, we can use sentiment analyzer to select ticket desctiption with negative label and high score as described before"
   ]
  },
  {
   "cell_type": "code",
   "execution_count": 5,
   "id": "dbadc73f-9b49-4ee7-aa85-648130761d21",
   "metadata": {},
   "outputs": [],
   "source": [
    "import pandas as pd\n",
    "df = pd.read_csv(\"../customer_support_tickets_processed.csv\")"
   ]
  }
 ],
 "metadata": {
  "kernelspec": {
   "display_name": "Python 3 (ipykernel)",
   "language": "python",
   "name": "python3"
  },
  "language_info": {
   "codemirror_mode": {
    "name": "ipython",
    "version": 3
   },
   "file_extension": ".py",
   "mimetype": "text/x-python",
   "name": "python",
   "nbconvert_exporter": "python",
   "pygments_lexer": "ipython3",
   "version": "3.11.11"
  }
 },
 "nbformat": 4,
 "nbformat_minor": 5
}
