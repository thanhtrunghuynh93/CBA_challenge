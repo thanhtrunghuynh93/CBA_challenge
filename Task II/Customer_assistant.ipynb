{
 "cells": [
  {
   "cell_type": "code",
   "execution_count": 1,
   "id": "be838c67-f388-4b09-b721-e73482482622",
   "metadata": {},
   "outputs": [],
   "source": [
    "import pandas as pd\n",
    "\n",
    "df = pd.read_csv(\"../customer_support_tickets.csv\")"
   ]
  },
  {
   "cell_type": "markdown",
   "id": "521aa01a-9a9b-4e95-beb5-fbea6e21c789",
   "metadata": {},
   "source": [
    "# Build an AI model to categorize user intent based on the ticket. \n",
    "Q1: Design an AI or GenAI solution to categorize customer inquiries into different intent categories. How would you design an unsupervised learning model or generative AI model to discover new categories of customer inquiries, given that we don't have a clear categories list?\n",
    "- Use Ticket Type, Ticket Subject, and Ticket Description to understand the user inquiries.\n",
    "- Given that we do not have the clear category list, we can semantic embed the ticket content and clustering, then determine the group title based on top-k typical ticket\n",
    "\n",
    "First, I would build a unsupervised solution using semantic embedding and clustering\n",
    "\n",
    "**Process:**\n",
    "- Preprocess the ticket description\n",
    "- Use sentence embedding on ticket type, ticket subject, and ticket description\n",
    "- Concatenate ticket type, subject, and description, then generate the representation for ticket content\n",
    "- Use K-mean clustering to determine the clusters and typical tickets for each group\n",
    "- Use Gen AI/human intuition to label the intent for each ticket group"
   ]
  },
  {
   "cell_type": "code",
   "execution_count": 2,
   "id": "2a4086f9-4da8-450b-9726-d515e910439e",
   "metadata": {},
   "outputs": [],
   "source": [
    "import re\n",
    "import nltk\n",
    "import spacy\n",
    "import torch\n",
    "from torch.utils.data import Dataset, DataLoader\n",
    "from torchtext.data.utils import get_tokenizer\n",
    "from transformers import AutoTokenizer\n",
    "from torchtext.vocab import build_vocab_from_iterator\n",
    "from collections import Counter\n",
    "\n",
    "# Remove non-informative phrase\n",
    "phrases_to_remove = [\n",
    "    r\"i'?m having an issue with (the )?\\{?product_purchased\\}?\\s*\\.?\",\n",
    "    r\"please assist\\.?\",\n",
    "    r\"let me know\\.?\",\n",
    "    r\"thank you\\.?\",\n",
    "]\n",
    "phrase_pattern = re.compile(r\"|\".join(phrases_to_remove), re.IGNORECASE)\n",
    "\n",
    "def clean_text(text):\n",
    "    text = phrase_pattern.sub(\"\", text)\n",
    "    text = re.sub(r\"\\s+\", \" \", text)\n",
    "\n",
    "    return text\n",
    "\n",
    "def ticket_content_wrapper(ticket):\n",
    "    return f'Ticket Type: {ticket[\"Ticket Type\"]}, Ticket Subject: {ticket[\"Ticket Subject\"]}, Ticket Description: {ticket[\"Ticket Description Processed\"]}'\n",
    "    \n",
    "df = df.drop_duplicates(subset=\"Ticket Description\", keep=\"first\")\n",
    "df[\"Ticket Description Processed\"] = df[\"Ticket Description\"].apply(clean_text)\n",
    "df['Ticket Content'] = df.apply(ticket_content_wrapper, axis=1)"
   ]
  },
  {
   "cell_type": "code",
   "execution_count": 3,
   "id": "38f406c2-68da-40c6-afd4-da9c67f5f7e1",
   "metadata": {},
   "outputs": [
    {
     "data": {
      "text/plain": [
       "0       Ticket Type: Technical issue, Ticket Subject: ...\n",
       "1       Ticket Type: Technical issue, Ticket Subject: ...\n",
       "2       Ticket Type: Technical issue, Ticket Subject: ...\n",
       "3       Ticket Type: Billing inquiry, Ticket Subject: ...\n",
       "4       Ticket Type: Billing inquiry, Ticket Subject: ...\n",
       "                              ...                        \n",
       "8464    Ticket Type: Product inquiry, Ticket Subject: ...\n",
       "8465    Ticket Type: Technical issue, Ticket Subject: ...\n",
       "8466    Ticket Type: Technical issue, Ticket Subject: ...\n",
       "8467    Ticket Type: Product inquiry, Ticket Subject: ...\n",
       "8468    Ticket Type: Billing inquiry, Ticket Subject: ...\n",
       "Name: Ticket Content, Length: 8077, dtype: object"
      ]
     },
     "execution_count": 3,
     "metadata": {},
     "output_type": "execute_result"
    }
   ],
   "source": [
    "df['Ticket Content']"
   ]
  },
  {
   "cell_type": "code",
   "execution_count": 4,
   "id": "63b1b002-bcf8-44e4-9e0c-90684a1b1c77",
   "metadata": {},
   "outputs": [],
   "source": [
    "#Construct dataset and dataloader from the given ticket dataset\n",
    "class TicketDataset(Dataset):\n",
    "    def __init__(self, dataframe):\n",
    "        self.df = dataframe\n",
    "\n",
    "    def __len__(self):\n",
    "        return len(self.df)\n",
    "\n",
    "    def __getitem__(self, idx):\n",
    "        row = self.df.iloc[idx]\n",
    "        return {\n",
    "            \"idx\": idx, \n",
    "            \"desc\": row[\"Ticket Description Processed\"],\n",
    "            \"subj\": row[\"Ticket Subject\"],\n",
    "            \"type\": row[\"Ticket Type\"]\n",
    "        }\n",
    "\n",
    "def collate_fn(batch):\n",
    "    texts = [f'Ticket Type: {item[\"type\"]}, Ticket Subject: {item[\"subj\"]}, Ticket Description: {item[\"desc\"]}' for item in batch]\n",
    "    tokenized = tokenizer(texts, padding=True, truncation=True, return_tensors=\"pt\")\n",
    "    idxs = [item[\"idx\"] for item in batch]\n",
    "    return tokenized, idxs"
   ]
  },
  {
   "cell_type": "code",
   "execution_count": 5,
   "id": "cfb940f0-f3c0-4145-8a06-1d8b0a34239f",
   "metadata": {},
   "outputs": [],
   "source": [
    "#Generate embedding for ticket content\n",
    "from transformers import AutoTokenizer, T5EncoderModel\n",
    "from sklearn.metrics.pairwise import cosine_similarity\n",
    "\n",
    "device = \"cuda\" if torch.cuda.is_available() else \"cpu\"\n",
    "tokenizer = AutoTokenizer.from_pretrained(\"sentence-transformers/sentence-t5-base\")\n",
    "model = T5EncoderModel.from_pretrained(\"sentence-transformers/sentence-t5-base\").to(device)\n",
    "model.eval()\n",
    "\n",
    "dataset = TicketDataset(df)  \n",
    "dataloader = DataLoader(dataset, batch_size=8, collate_fn=collate_fn)\n",
    "\n",
    "# Computes a sentence embedding by averaging the token embeddings while ignoring padded tokens\n",
    "def mean_pooling(model_output, attention_mask):\n",
    "    token_embeddings = model_output.last_hidden_state\n",
    "    input_mask_expanded = attention_mask.unsqueeze(-1).expand(token_embeddings.size()).float()\n",
    "    return (token_embeddings * input_mask_expanded).sum(1) / input_mask_expanded.sum(1)\n",
    "\n",
    "# Generate sentence embeddings\n",
    "embeddings = []\n",
    "with torch.no_grad():\n",
    "    for tokenized, idxs in dataloader:\n",
    "        for k in tokenized:\n",
    "            tokenized[k] = tokenized[k].to(device)\n",
    "        model_output = model(**tokenized)\n",
    "        pooled = mean_pooling(model_output, tokenized['attention_mask'])\n",
    "        embeddings.append(pooled.cpu())\n",
    "\n",
    "sentence_embeddings = torch.cat(embeddings, dim=0) "
   ]
  },
  {
   "cell_type": "code",
   "execution_count": 6,
   "id": "01b67f1d-c01e-4cf4-910d-3b3bda11c4b1",
   "metadata": {},
   "outputs": [
    {
     "data": {
      "text/plain": [
       "torch.Size([8077, 768])"
      ]
     },
     "execution_count": 6,
     "metadata": {},
     "output_type": "execute_result"
    }
   ],
   "source": [
    "sentence_embeddings.shape"
   ]
  },
  {
   "cell_type": "code",
   "execution_count": 7,
   "id": "68a0413f-5d6b-4acc-bcf0-8245f6a52dea",
   "metadata": {},
   "outputs": [
    {
     "data": {
      "image/png": "[encoded data removed]",
      "text/plain": [
       "<Figure size 640x480 with 1 Axes>"
      ]
     },
     "metadata": {},
     "output_type": "display_data"
    }
   ],
   "source": [
    "# After having the ticket embeddings, applying Kmeans with elbow to seek for the optimal number of k\n",
    "import matplotlib.pyplot as plt\n",
    "import faiss\n",
    "import numpy as np\n",
    "\n",
    "# Convert embeddings to numpy\n",
    "X = sentence_embeddings.numpy().astype('float32')\n",
    "faiss.normalize_L2(X)\n",
    "\n",
    "# Try k from 1 to 10\n",
    "k_range = range(1, 11)\n",
    "avg_distance = []\n",
    "\n",
    "for k in k_range:\n",
    "    kmeans = faiss.Kmeans(d=X.shape[1], k=k, niter=20, verbose=False)\n",
    "    kmeans.train(X)\n",
    "    \n",
    "    # Search for nearest centroid (1-NN)\n",
    "    D, _ = kmeans.index.search(X, 1)  \n",
    "    avg_distance.append(np.mean(D)) \n",
    "\n",
    "# Plot the elbow curve\n",
    "plt.figure()\n",
    "plt.plot(k_range, avg_distance, marker='o')\n",
    "plt.xlabel('Number of clusters (k)')\n",
    "plt.ylabel('Average Squared Cosine Distance')\n",
    "plt.title('FAISS Elbow Method (Cosine Similarity)')\n",
    "plt.grid(True)\n",
    "plt.show()"
   ]
  },
  {
   "cell_type": "markdown",
   "id": "bef59307-696b-4030-86a2-62905a2a11a3",
   "metadata": {},
   "source": [
    "No clear elbow point is observed, although choosing 5 clusters appears to be a reasonable option. This matches the number of ticket type. \n",
    "- Retrieve and check top-k typical tickets for each cluster to determine the label"
   ]
  },
  {
   "cell_type": "code",
   "execution_count": 8,
   "id": "19b4f3aa-9d06-4abc-b028-23ee62332f87",
   "metadata": {},
   "outputs": [],
   "source": [
    "k = 5  \n",
    "top_k = 5\n",
    "\n",
    "kmeans = faiss.Kmeans(d=X.shape[1], k=k, niter=20, verbose=False)\n",
    "kmeans.train(X)\n",
    "_, labels = kmeans.index.search(X, 1)\n",
    "labels = labels.flatten()\n",
    "\n",
    "# Find typical (closest) tickets per cluster\n",
    "typical_tickets = {}\n",
    "\n",
    "for cluster_id in range(k):\n",
    "    cluster_indices = np.where(labels == cluster_id)[0]\n",
    "    cluster_vectors = X[cluster_indices]\n",
    "    \n",
    "    # Cosine similarity = dot product (since vectors are normalized)\n",
    "    centroid = kmeans.centroids[cluster_id].reshape(1, -1)\n",
    "    similarities = np.dot(cluster_vectors, centroid.T).flatten()\n",
    "    \n",
    "    # Get top-k indices with highest similarity\n",
    "    top_k_indices = cluster_indices[np.argsort(similarities)[-top_k:][::-1]]  # descending order\n",
    "    typical_tickets[cluster_id] = df.iloc[top_k_indices]"
   ]
  },
  {
   "cell_type": "code",
   "execution_count": 9,
   "id": "7b39b0e0-764c-4725-8da8-1fda60d14ad2",
   "metadata": {},
   "outputs": [
    {
     "data": {
      "text/plain": [
       "array(['Product setup', 'Peripheral compatibility', 'Network problem',\n",
       "       'Account access', 'Data loss', 'Payment issue', 'Refund request',\n",
       "       'Battery life', 'Installation support', 'Software bug',\n",
       "       'Hardware issue', 'Product recommendation', 'Delivery problem',\n",
       "       'Display issue', 'Cancellation request', 'Product compatibility'],\n",
       "      dtype=object)"
      ]
     },
     "execution_count": 9,
     "metadata": {},
     "output_type": "execute_result"
    }
   ],
   "source": [
    "df[\"Ticket Subject\"].unique()"
   ]
  },
  {
   "cell_type": "code",
   "execution_count": 10,
   "id": "f41d82c1-2a7e-467a-9ea8-e949abc7a3dd",
   "metadata": {},
   "outputs": [
    {
     "name": "stdout",
     "output_type": "stream",
     "text": [
      "\n",
      "=== Cluster 0 - Top 5 Typical Tickets ===\n",
      "\n",
      "Ticket 5900:\n",
      "  Type    : Product inquiry\n",
      "  Subject : Payment issue\n",
      "  Content : Ticket Type: Product inquiry, Ticket Subject: Payment issue, Ticket Description: I'm facing a problem with my {product_purchased}. The {product_purchased} is not turning on. It was working fine until yesterday, but now it doesn't respond. Why was there no {product_ I've checked for software updates, and my {product_purchased} is already running the latest version.\n",
      "\n",
      "Ticket 3181:\n",
      "  Type    : Billing inquiry\n",
      "  Subject : Software bug\n",
      "  Content : Ticket Type: Billing inquiry, Ticket Subject: Software bug, Ticket Description: I'm facing a problem with my {product_purchased}. The {product_purchased} is not turning on. It was working fine until yesterday, but now it doesn't respond. If it's already going to work it will I've checked the device settings and made sure that everything is configured correctly.\n",
      "\n",
      "Ticket 1553:\n",
      "  Type    : Product inquiry\n",
      "  Subject : Software bug\n",
      "  Content : Ticket Type: Product inquiry, Ticket Subject: Software bug, Ticket Description: I'm facing a problem with my {product_purchased}. The {product_purchased} is not turning on. It was working fine until yesterday, but now it doesn't respond. This has stopped my [brand]-purch I've tried different settings and configurations on my {product_purchased}, but the issue persists.\n",
      "\n",
      "Ticket 7745:\n",
      "  Type    : Product inquiry\n",
      "  Subject : Software bug\n",
      "  Content : Ticket Type: Product inquiry, Ticket Subject: Software bug, Ticket Description: I'm facing a problem with my {product_purchased}. The {product_purchased} is not turning on. It was working fine until yesterday, but now it doesn't respond. Please contact us if we can help you. I've tried using different cables, adapters, or peripherals with my {product_purchased}, but the issue persists.\n",
      "\n",
      "Ticket 3361:\n",
      "  Type    : Billing inquiry\n",
      "  Subject : Product setup\n",
      "  Content : Ticket Type: Billing inquiry, Ticket Subject: Product setup, Ticket Description: I'm facing a problem with my {product_purchased}. The {product_purchased} is not turning on. It was working fine until yesterday, but now it doesn't respond. This is a serious issue. Will all my I've checked for software updates, and my {product_purchased} is already running the latest version.\n",
      "\n",
      "\n",
      "=== Cluster 1 - Top 5 Typical Tickets ===\n",
      "\n",
      "Ticket 7646:\n",
      "  Type    : Refund request\n",
      "  Subject : Cancellation request\n",
      "  Content : Ticket Type: Refund request, Ticket Subject: Cancellation request, Ticket Description: I'm facing a problem with my {product_purchased}. The {product_purchased} is not turning on. It was working fine until yesterday, but now it doesn't respond. If my product is turned off the {product I'm unable to find the option to perform the desired action in the {product_purchased}. Could you please guide me through the steps?\n",
      "\n",
      "Ticket 5340:\n",
      "  Type    : Cancellation request\n",
      "  Subject : Refund request\n",
      "  Content : Ticket Type: Cancellation request, Ticket Subject: Refund request, Ticket Description: I'm facing a problem with my {product_purchased}. The {product_purchased} is not turning on. It was working fine until yesterday, but now it doesn't respond. This is very unfortunate. Also, the account This problem started occurring after the recent software update. I haven't made any other changes to the device.\n",
      "\n",
      "Ticket 2668:\n",
      "  Type    : Refund request\n",
      "  Subject : Account access\n",
      "  Content : Ticket Type: Refund request, Ticket Subject: Account access, Ticket Description: I'm facing a problem with my {product_purchased}. The {product_purchased} is not turning on. It was working fine until yesterday, but now it doesn't respond. What do you do? {product_p This problem started occurring after the recent software update. I haven't made any other changes to the device.\n",
      "\n",
      "Ticket 365:\n",
      "  Type    : Cancellation request\n",
      "  Subject : Payment issue\n",
      "  Content : Ticket Type: Cancellation request, Ticket Subject: Payment issue, Ticket Description: I'm facing a problem with my {product_purchased}. The {product_purchased} is not turning on. It was working fine until yesterday, but now it doesn't respond. Why are I getting this error? I'm I've already contacted customer support multiple times, but the issue remains unresolved.\n",
      "\n",
      "Ticket 6241:\n",
      "  Type    : Cancellation request\n",
      "  Subject : Refund request\n",
      "  Content : Ticket Type: Cancellation request, Ticket Subject: Refund request, Ticket Description: I'm facing a problem with my {product_purchased}. The {product_purchased} is not turning on. It was working fine until yesterday, but now it doesn't respond. I'm in a rush. This problem started occurring after the recent software update. I haven't made any other changes to the device.\n",
      "\n",
      "\n",
      "=== Cluster 2 - Top 5 Typical Tickets ===\n",
      "\n",
      "Ticket 902:\n",
      "  Type    : Cancellation request\n",
      "  Subject : Hardware issue\n",
      "  Content : Ticket Type: Cancellation request, Ticket Subject: Hardware issue, Ticket Description:  if you find this issue. :/ I've got a problem with the {product_purchased}. if you I've already contacted customer support multiple times, but the issue remains unresolved.\n",
      "\n",
      "Ticket 1386:\n",
      "  Type    : Refund request\n",
      "  Subject : Cancellation request\n",
      "  Content : Ticket Type: Refund request, Ticket Subject: Cancellation request, Ticket Description:  I don't understand. What is the problem with the {product_purchased}. I've read that by \"I don't understand. What is The issue I'm facing is intermittent. Sometimes it works fine, but other times it acts up unexpectedly.\n",
      "\n",
      "Ticket 5827:\n",
      "  Type    : Refund request\n",
      "  Subject : Product recommendation\n",
      "  Content : Ticket Type: Refund request, Ticket Subject: Product recommendation, Ticket Description:  Please contact me if you have any more questions please let us know. Please include the following information, with your information: Your name, address, I've tried troubleshooting steps mentioned in the user manual, but the issue persists.\n",
      "\n",
      "Ticket 3626:\n",
      "  Type    : Billing inquiry\n",
      "  Subject : Product setup\n",
      "  Content : Ticket Type: Billing inquiry, Ticket Subject: Product setup, Ticket Description:  We do not ask for a refund and do not have any more information. If, after contacting us, you have a problem with the product, please contact The issue I'm facing is intermittent. Sometimes it works fine, but other times it acts up unexpectedly.\n",
      "\n",
      "Ticket 2400:\n",
      "  Type    : Technical issue\n",
      "  Subject : Refund request\n",
      "  Content : Ticket Type: Technical issue, Ticket Subject: Refund request, Ticket Description:  <input type=\"submit\" name=\"name\"/> <link href=\"product_id\"/> <product_format>@{color:#5C5C5C I've followed the troubleshooting steps mentioned in the user manual, but the issue persists.\n",
      "\n",
      "\n",
      "=== Cluster 3 - Top 5 Typical Tickets ===\n",
      "\n",
      "Ticket 4659:\n",
      "  Type    : Cancellation request\n",
      "  Subject : Hardware issue\n",
      "  Content : Ticket Type: Cancellation request, Ticket Subject: Hardware issue, Ticket Description: I'm facing a problem with my {product_purchased}. The {product_purchased} is not turning on. It was working fine until yesterday, but now it doesn't respond. I have no idea why they've I need assistance as soon as possible because it's affecting my work and productivity.\n",
      "\n",
      "Ticket 4769:\n",
      "  Type    : Billing inquiry\n",
      "  Subject : Battery life\n",
      "  Content : Ticket Type: Billing inquiry, Ticket Subject: Battery life, Ticket Description:  0:00 - Product purchased! Product purchased! 0:14 - How are you doing, and what are you doing with your {product_ I need assistance as soon as possible because it's affecting my work and productivity.\n",
      "\n",
      "Ticket 6100:\n",
      "  Type    : Billing inquiry\n",
      "  Subject : Cancellation request\n",
      "  Content : Ticket Type: Billing inquiry, Ticket Subject: Cancellation request, Ticket Description:  If you could, I'd like to ask you. If you find some issue with the product, please send us an email. As of I need assistance as soon as possible because it's affecting my work and productivity.\n",
      "\n",
      "Ticket 6618:\n",
      "  Type    : Technical issue\n",
      "  Subject : Battery life\n",
      "  Content : Ticket Type: Technical issue, Ticket Subject: Battery life, Ticket Description:  I found out you can, however, receive a payment (or an acknowledgment of receipt of the sales payment invoice). This includes the invoice for the merchandise which I need assistance as soon as possible because it's affecting my work and productivity.\n",
      "\n",
      "Ticket 4940:\n",
      "  Type    : Billing inquiry\n",
      "  Subject : Hardware issue\n",
      "  Content : Ticket Type: Billing inquiry, Ticket Subject: Hardware issue, Ticket Description:  * If you have issues using the product, please contact us. * If you don't know where to get that the product is, please, I need assistance as soon as possible because it's affecting my work and productivity.\n",
      "\n",
      "\n",
      "=== Cluster 4 - Top 5 Typical Tickets ===\n",
      "\n",
      "Ticket 4808:\n",
      "  Type    : Technical issue\n",
      "  Subject : Hardware issue\n",
      "  Content : Ticket Type: Technical issue, Ticket Subject: Hardware issue, Ticket Description: I've encountered a data loss issue with my {product_purchased}. All the files and documents seem to have disappeared. Can you guide me on how to retrieve them? Thanks for the suggestion and thanks for the support. I've performed a factory reset on my {product_purchased}, hoping it would resolve the problem, but it didn't help.\n",
      "\n",
      "Ticket 136:\n",
      "  Type    : Product inquiry\n",
      "  Subject : Software bug\n",
      "  Content : Ticket Type: Product inquiry, Ticket Subject: Software bug, Ticket Description: I've encountered a data loss issue with my {product_purchased}. All the files and documents seem to have disappeared. Can you guide me on how to retrieve them? If you can't identify them, what are you going to do? I've performed a factory reset on my {product_purchased}, hoping it would resolve the problem, but it didn't help.\n",
      "\n",
      "Ticket 2439:\n",
      "  Type    : Refund request\n",
      "  Subject : Product setup\n",
      "  Content : Ticket Type: Refund request, Ticket Subject: Product setup, Ticket Description: I've encountered a data loss issue with my {product_purchased}. All the files and documents seem to have disappeared. Can you guide me on how to retrieve them? <A1#11-11>: Please get in touch with me I've performed a factory reset on my {product_purchased}, hoping it would resolve the problem, but it didn't help.\n",
      "\n",
      "Ticket 6027:\n",
      "  Type    : Product inquiry\n",
      "  Subject : Cancellation request\n",
      "  Content : Ticket Type: Product inquiry, Ticket Subject: Cancellation request, Ticket Description: I've encountered a data loss issue with my {product_purchased}. All the files and documents seem to have disappeared. Can you guide me on how to retrieve them? If so, please I've performed a factory reset on my {product_purchased}, hoping it would resolve the problem, but it didn't help.\n",
      "\n",
      "Ticket 3686:\n",
      "  Type    : Technical issue\n",
      "  Subject : Product setup\n",
      "  Content : Ticket Type: Technical issue, Ticket Subject: Product setup, Ticket Description: I've encountered a data loss issue with my {product_purchased}. All the files and documents seem to have disappeared. Can you guide me on how to retrieve them? Thanks.\" I've performed a factory reset on my {product_purchased}, hoping it would resolve the problem, but it didn't help.\n",
      "\n"
     ]
    }
   ],
   "source": [
    "for i in range(k):\n",
    "    typicals = typical_tickets[i]\n",
    "    print(f\"\\n=== Cluster {i} - Top {len(typicals)} Typical Tickets ===\\n\")\n",
    "    for j, row in typicals.iterrows():\n",
    "        print(f\"Ticket {j+1}:\")\n",
    "        print(f\"  Type    : {row['Ticket Type']}\")\n",
    "        print(f\"  Subject : {row['Ticket Subject']}\")\n",
    "        print(f\"  Content : {row['Ticket Content']}\\n\")"
   ]
  },
  {
   "cell_type": "code",
   "execution_count": 11,
   "id": "d116dc8f-4444-49df-af44-759f694439c6",
   "metadata": {},
   "outputs": [
    {
     "name": "stdout",
     "output_type": "stream",
     "text": [
      "2352\n",
      "Statistics for group 0\n",
      "Ticket Type\n",
      "Billing inquiry    806\n",
      "Product inquiry    802\n",
      "Technical issue    744\n",
      "Name: count, dtype: int64\n",
      "2186\n",
      "Statistics for group 1\n",
      "Ticket Type\n",
      "Refund request          973\n",
      "Cancellation request    868\n",
      "Technical issue         127\n",
      "Product inquiry         117\n",
      "Billing inquiry         101\n",
      "Name: count, dtype: int64\n",
      "1696\n",
      "Statistics for group 2\n",
      "Ticket Type\n",
      "Cancellation request    402\n",
      "Technical issue         385\n",
      "Refund request          332\n",
      "Product inquiry         299\n",
      "Billing inquiry         278\n",
      "Name: count, dtype: int64\n",
      "686\n",
      "Statistics for group 3\n",
      "Ticket Type\n",
      "Billing inquiry         146\n",
      "Technical issue         142\n",
      "Cancellation request    141\n",
      "Refund request          138\n",
      "Product inquiry         119\n",
      "Name: count, dtype: int64\n",
      "1157\n",
      "Statistics for group 4\n",
      "Ticket Type\n",
      "Technical issue         253\n",
      "Product inquiry         240\n",
      "Billing inquiry         240\n",
      "Refund request          216\n",
      "Cancellation request    208\n",
      "Name: count, dtype: int64\n"
     ]
    }
   ],
   "source": [
    "df[\"label\"] = labels\n",
    "for i in range(k):\n",
    "    insight = df[df[\"label\"] == i]\n",
    "    print(len(insight))\n",
    "    print(f\"Statistics for group {i}\")    \n",
    "    print(insight[\"Ticket Type\"].value_counts())\n",
    "    "
   ]
  },
  {
   "cell_type": "markdown",
   "id": "add51d4f-b94e-4ff2-9e33-085c989cead7",
   "metadata": {},
   "source": [
    "From the statistics, it seems that the tickets can also be categorized into 2 high-level categories: [Technical issue, Product inquiry, Billing inquiry] and [Refund request, Cancellation request]. I propose to group [Technical issue, Product inquiry, Billing inquiry] as \"Service Help\" and [Refund request, Cancellation request] as \"Cancellation and Refund\"."
   ]
  },
  {
   "cell_type": "markdown",
   "id": "6b0b77a8-ff5a-4bed-8c6d-0a346948f912",
   "metadata": {},
   "source": [
    "Solution 2: Use a LLM to determine the user intent based on the ticket content. \n",
    "- Use NLI model to determine the user intent from the ticket description"
   ]
  },
  {
   "cell_type": "code",
   "execution_count": 12,
   "id": "99bb85b5-1a8f-4427-a173-1f327ec377a2",
   "metadata": {},
   "outputs": [],
   "source": [
    "from transformers import pipeline\n",
    "\n",
    "# Load zero-shot classification pipeline\n",
    "intent_classifier = pipeline(\"zero-shot-classification\", model=\"facebook/bart-large-mnli\", device = device)\n",
    "# Candidate intents\n",
    "user_intents = [\n",
    "    \"Help with Product Setup\",\n",
    "    \"Check Peripheral Compatibility\",\n",
    "    \"Resolve Network Problem\",\n",
    "    \"Recover Account Access\",\n",
    "    \"Report Data Loss\",\n",
    "    \"Fix Payment Issue\",\n",
    "    \"Request Refund\",\n",
    "    \"Battery Draining Too Fast\",\n",
    "    \"Need Installation Support\",\n",
    "    \"Report Software Bug\",\n",
    "    \"Report Hardware Issue\",\n",
    "    \"Ask for Product Recommendation\",\n",
    "    \"Report Delivery Problem\",\n",
    "    \"Fix Display Issue\",\n",
    "    \"Request Cancellation\",\n",
    "    \"Check Product Compatibility\"\n",
    "]\n",
    "\n",
    "def retrieve_user_intent(text, classifier, user_intents = user_intents, verbose = False):\n",
    "\n",
    "    result = classifier(text, user_intents, multi_label=True)\n",
    "    \n",
    "    if verbose:\n",
    "        print(\"Predicted Intents:\")\n",
    "        for label, score in zip(result['labels'], result['scores']):\n",
    "            print(f\"{label}: {score:.3f}\")\n",
    "\n",
    "    return result['labels'][0]\n"
   ]
  },
  {
   "cell_type": "code",
   "execution_count": 13,
   "id": "61fca7d7-2192-4e76-802c-9ace5f184fad",
   "metadata": {},
   "outputs": [
    {
     "name": "stdout",
     "output_type": "stream",
     "text": [
      "Ticket Type: Refund request, Ticket Subject: Display issue, Ticket Description: I've recently set up my {product_purchased}, but it fails to connect to any available networks. What steps should I take to troubleshoot this issue? If you're the user that's using Microsoft Windows Media Encoder I've tried different settings and configurations on my {product_purchased}, but the issue persists.\n",
      "User intent: Request Refund\n",
      "----------------------------------------\n",
      "Ticket Type: Technical issue, Ticket Subject: Display issue, Ticket Description:  There were three or four people in the room, and they all took the keys, and he was completely quiet... it looked like in the very background. I've tried troubleshooting steps mentioned in the user manual, but the issue persists.\n",
      "User intent: Fix Display Issue\n",
      "----------------------------------------\n",
      "Ticket Type: Cancellation request, Ticket Subject: Cancellation request, Ticket Description: I've accidentally deleted important data from my {product_purchased}. Is there any way to recover the deleted files? I need them urgently. I've accidentally deleted important data from my {product_purchased}. Is there any I've performed a factory reset on my {product_purchased}, hoping it would resolve the problem, but it didn't help.\n",
      "User intent: Request Cancellation\n",
      "----------------------------------------\n"
     ]
    }
   ],
   "source": [
    "#Test with some tickets\n",
    "import random\n",
    "\n",
    "for i in range(3):   \n",
    "    rand_num = random.randint(0, len(df))\n",
    "    item = df.iloc[rand_num]\n",
    "    ticket_content = ticket_content_wrapper(item)\n",
    "    print(ticket_content)\n",
    "    intent = retrieve_user_intent(ticket_content, intent_classifier, user_intents, verbose = False)\n",
    "    print(\"User intent:\", intent)\n",
    "    print(\"-\" * 40)"
   ]
  },
  {
   "cell_type": "markdown",
   "id": "f9c8b883-29aa-4bde-ba60-019f371e4676",
   "metadata": {},
   "source": [
    "Q2: Given the \"Customer Age\" and \"Customer Gender\" fields, how might you personalize the AI model's responses to different customer segments?\n",
    "- Categorize customers by age (young, middle-age, elderly) and gender (male, female), and provide this context to the Gen AI model.\n",
    "- Select high-rated resolutions as examples for each customer group."
   ]
  },
  {
   "cell_type": "code",
   "execution_count": 14,
   "id": "e1a27c13-e3c6-4136-8c77-a203c2aa739c",
   "metadata": {},
   "outputs": [
    {
     "data": {
      "text/plain": [
       "count    8077.000000\n",
       "mean       44.037266\n",
       "std        15.262633\n",
       "min        18.000000\n",
       "25%        31.000000\n",
       "50%        44.000000\n",
       "75%        57.000000\n",
       "max        70.000000\n",
       "Name: Customer Age, dtype: float64"
      ]
     },
     "execution_count": 14,
     "metadata": {},
     "output_type": "execute_result"
    }
   ],
   "source": [
    "df[\"Customer Age\"].describe()"
   ]
  },
  {
   "cell_type": "code",
   "execution_count": 15,
   "id": "30a9e6e3-f25e-4b1b-a445-7161afc1ed7d",
   "metadata": {},
   "outputs": [],
   "source": [
    "df.loc[df[\"Customer Age\"] < 30, \"Customer Age Group\"] = \"Younger\"\n",
    "df.loc[(df[\"Customer Age\"] >= 30) & (df[\"Customer Age\"] < 45), \"Customer Age Group\"] = \"Middle\"\n",
    "df.loc[df[\"Customer Age\"] >= 45, \"Customer Age Group\"] = \"Elder\""
   ]
  },
  {
   "cell_type": "code",
   "execution_count": 16,
   "id": "14369344-51f8-4822-b6ef-8dc1ec72d375",
   "metadata": {},
   "outputs": [
    {
     "data": {
      "text/plain": [
       "Customer Gender\n",
       "Female    2755\n",
       "Male      2750\n",
       "Other     2572\n",
       "Name: count, dtype: int64"
      ]
     },
     "execution_count": 16,
     "metadata": {},
     "output_type": "execute_result"
    }
   ],
   "source": [
    "df[\"Customer Gender\"].value_counts()"
   ]
  },
  {
   "cell_type": "markdown",
   "id": "d563ec67-0de4-4baf-b6bb-e1ec43bbc3be",
   "metadata": {},
   "source": [
    "The customer can be categorized into 3 group ages: Young, Middle, Elder; and 3 genders. I use the rule-based as follow to personalized the chatbot: \n",
    "- Younger: use casual tone\n",
    "- Middle: use balanced tone; with empathic tone for woman, efficient tone for men and neutral tone for other\n",
    "- Elder: use formal, respectful tone\n"
   ]
  },
  {
   "cell_type": "code",
   "execution_count": 17,
   "id": "3392aab5-0da1-4335-8ff9-29806cb7df97",
   "metadata": {},
   "outputs": [],
   "source": [
    "template = \"\"\"\n",
    "You are a helpful and respectful customer support assistant.\n",
    "\n",
    "The following information is provided about the user:\n",
    "- Purchased product: {product}\n",
    "- User Intent: {intent}\n",
    "Customer's message: \"{ticket_content}\"\n",
    "\n",
    "Based on the above, provide brief relevant assistance. {tone}\n",
    "\"\"\"\n",
    "\n",
    "def select_tone(ticket):\n",
    "    age_group = ticket[\"Customer Age Group\"]\n",
    "    gender = ticket[\"Customer Gender\"]\n",
    "    if age_group == \"Younger\":\n",
    "        return \"Respond in a casual and friendly tone suitable for younger audiences.\"\n",
    "    elif age_group == \"Middle\":\n",
    "        if gender == \"Female\":\n",
    "            return \"Respond in a balanced, empathetic tone.\"\n",
    "        elif gender == \"Male\":\n",
    "            return \"Respond in a balanced, efficient tone.\"\n",
    "        else:\n",
    "            return \"Respond in a balanced, neutral tone.\"\n",
    "    else:\n",
    "        return \"Respond in a formal, respectful tone suitable for older customers.\"\n",
    "\n",
    "def prepare_input_data(ticket, user_intent_classifier, template=template):\n",
    "    age_group = ticket[\"Customer Age Group\"]\n",
    "    gender = ticket[\"Customer Gender\"]\n",
    "    product = ticket[\"Product Purchased\"]\n",
    "    ticket_content = ticket_content_wrapper(ticket)\n",
    "    user_intent = retrieve_user_intent(ticket_content, user_intent_classifier)\n",
    "    tone = select_tone(ticket)\n",
    "    \n",
    "    input_data = {\n",
    "        \"product\": product,\n",
    "        \"ticket_content\": ticket_content,\n",
    "        \"intent\": user_intent,\n",
    "        \"tone\": tone\n",
    "    }\n",
    "\n",
    "    return input_data    \n"
   ]
  },
  {
   "cell_type": "code",
   "execution_count": 18,
   "id": "5f428220-9d0d-4218-a789-d1975f01e916",
   "metadata": {},
   "outputs": [],
   "source": [
    "from langchain.prompts import PromptTemplate\n",
    "from langchain.chains import LLMChain\n",
    "from langchain_openai import ChatOpenAI\n",
    "\n",
    "prompt = PromptTemplate.from_template(template)\n",
    "llm = ChatOpenAI(model_name=\"gpt-3.5-turbo\", temperature=0.5)\n",
    "chain = prompt | llm\n"
   ]
  },
  {
   "cell_type": "code",
   "execution_count": 19,
   "id": "6d6b3957-ef82-4be9-8670-f1cc305de047",
   "metadata": {},
   "outputs": [
    {
     "name": "stdout",
     "output_type": "stream",
     "text": [
      "{'product': 'Microsoft Surface', 'ticket_content': \"Ticket Type: Product inquiry, Ticket Subject: Refund request, Ticket Description: I'm unable to access my {product_purchased} account. It keeps displaying an 'Invalid Credentials' error, even though I'm using the correct login information. How can I regain access to my account? Solution 1 I'm unable to find the option to perform the desired action in the {product_purchased}. Could you please guide me through the steps?\", 'intent': 'Request Refund', 'tone': 'Respond in a casual and friendly tone suitable for younger audiences.'}\n",
      "\n",
      "Assistant: Hey there! I'm sorry to hear you're having trouble accessing your Microsoft Surface account. It sounds like you're getting an 'Invalid Credentials' error, even though you're using the right login info. Let's get this sorted out for you! \n",
      "\n",
      "First, let's try resetting your password. You can usually do this by clicking on the 'Forgot Password' link on the login page. If that doesn't work, you can reach out to Microsoft Support for further assistance. They'll be able to help you regain access to your account.\n",
      "\n",
      "If you're having trouble finding the right option on your Microsoft Surface, don't worry! I can guide you through the steps. Just let me know where you're getting stuck, and I'll do my best to help you out. We'll have you back up and running in no time! 😊\n"
     ]
    }
   ],
   "source": [
    "ticket = df.iloc[6]\n",
    "input_data = prepare_input_data(ticket, intent_classifier)\n",
    "print(input_data)\n",
    "\n",
    "response = chain.invoke(input_data)\n",
    "print(\"\\nAssistant:\", response.content)"
   ]
  },
  {
   "cell_type": "markdown",
   "id": "1b36db47-04a3-43e5-8220-fa364d2d527c",
   "metadata": {},
   "source": [
    "Q3: How would you come up with new features to determine which queries should be escalated to human operators? For example, we can decide a ticket should be escalated if it has high or critical priority, can you think of something else?\n",
    "- Beside the priority, user intent can be used to decide if the query should be escalated to human operator\n",
    "- Also, we can use content-based feature: e.g. if the ticket is really negative?\n",
    "  \n",
    "As the \"Human Escalated\" labels are not available, I propose a heuristic to label the tickets using ticket sentiment, user intent and ticket priority"
   ]
  },
  {
   "cell_type": "code",
   "execution_count": 20,
   "id": "cf540ac3-505f-4e37-9ece-c44a1a1b96f6",
   "metadata": {},
   "outputs": [],
   "source": [
    "escalated_intents = [\n",
    "    \"Recover Account Access\",       # Critical for user access\n",
    "    \"Report Data Loss\",             # Potentially irreversible loss\n",
    "    \"Fix Payment Issue\",            # Involves financial sensitivity\n",
    "    \"Request Refund\",               # May involve policy exceptions\n",
    "    \"Report Hardware Issue\",        # Needs diagnostics or replacement\n",
    "    \"Report Software Bug\",          # Technical issue, may need logging/debugging\n",
    "    \"Request Cancellation\",         # Retention-sensitive, may need confirmation\n",
    "    \"Report Delivery Problem\"       # Time-sensitive and frustrating for users\n",
    "]\n",
    "\n",
    "non_escalated_intents = [\n",
    "    \"Help with Product Setup\",          # Routine onboarding\n",
    "    \"Resolve Network Problem\",          # Medium priority troubleshooting\n",
    "    \"Battery Draining Too Fast\",        # Performance-related but not critical\n",
    "    \"Fix Display Issue\",                # Visual/UX issue, typically fixable\n",
    "    \"Need Installation Support\",        # Basic guidance\n",
    "    \"Check Peripheral Compatibility\",   # Informational query\n",
    "    \"Check Product Compatibility\",      # Informational query\n",
    "    \"Ask for Product Recommendation\"    # Low-stakes query\n",
    "]\n"
   ]
  },
  {
   "cell_type": "markdown",
   "id": "0126f1c8-07a7-4ab2-a56b-f5f1ffa39201",
   "metadata": {},
   "source": [
    "The below code to preprocess the data and retrieve user intent and ticket sentiment score using facebook-bart-nli and Hugging Face sentiment analyzer. It has been pre-run and save the result to csv file "
   ]
  },
  {
   "cell_type": "code",
   "execution_count": 21,
   "id": "e5a7557a-f85f-4f1c-bf02-b2030f75fb1e",
   "metadata": {},
   "outputs": [],
   "source": [
    "# from tqdm import tqdm\n",
    "# intents = []\n",
    "\n",
    "# def retrieve_user_intents_batch(texts, classifier, user_intents=user_intents):\n",
    "#     results = classifier(texts, user_intents, multi_label=True)\n",
    "    \n",
    "#     predicted_labels = []\n",
    "#     for i, result in enumerate(results):\n",
    "#         top_label = result['labels'][0]\n",
    "#         predicted_labels.append(top_label)\n",
    "\n",
    "#     return predicted_labels\n",
    "    \n",
    "# sentiment_analyzer = pipeline(\"sentiment-analysis\", device = device)\n",
    "\n",
    "# def retrieve_ticket_sentiment_batch(texts, classifier):\n",
    "#     try:\n",
    "#         results = classifier(list(texts))  # Ensure it's a list\n",
    "#     except Exception as e:\n",
    "#         print(f\"Error during classification: {e}\")\n",
    "#         return [], []\n",
    "    \n",
    "#     predicted_labels = []\n",
    "#     predicted_scores = []\n",
    "\n",
    "#     for result in results:\n",
    "#         label = result.get('label', 'UNKNOWN')\n",
    "#         score = result.get('score', 0.0)\n",
    "#         predicted_labels.append(label)\n",
    "#         predicted_scores.append(score)\n",
    "\n",
    "#     return predicted_labels, predicted_scores\n",
    "\n",
    "# batch_size = 32\n",
    "# intents = []\n",
    "\n",
    "# ticket_texts = [ticket_content_wrapper(row) for _, row in df.iterrows()]\n",
    "\n",
    "# for i in tqdm(range(0, len(ticket_texts), batch_size)):\n",
    "#     batch = ticket_texts[i:i+batch_size]\n",
    "#     batch_intents = retrieve_user_intents_batch(batch, intent_classifier, user_intents)\n",
    "#     intents.extend(batch_intents)\n",
    "\n",
    "# df['user_intent'] = intents\n",
    "\n",
    "# labels = []\n",
    "# scores = []\n",
    "# ticket_contents = df[\"Ticket Content\"].dropna().values\n",
    "# batch_size = 32  \n",
    "\n",
    "# # Loop over batches\n",
    "# for i in tqdm(range(0, len(ticket_contents), batch_size)):\n",
    "#     batch = ticket_contents[i:i+batch_size]\n",
    "#     t_labels, t_scores = retrieve_ticket_sentiment_batch(batch, sentiment_analyzer)\n",
    "#     labels.extend(t_labels)\n",
    "#     scores.extend(t_scores)\n",
    "\n",
    "# df[\"Ticket Sentiment\"] = labels\n",
    "# df[\"Ticket Sentiment Score\"] = scores\n",
    "# df.to_csv(\"../customer_support_tickets_processed.csv\")"
   ]
  },
  {
   "cell_type": "code",
   "execution_count": 22,
   "id": "01fa98ec-6c3a-4e06-b90b-226a13d66e21",
   "metadata": {},
   "outputs": [],
   "source": [
    "df = pd.read_csv(\"../customer_support_tickets_processed.csv\", index_col = \"Ticket ID\")"
   ]
  },
  {
   "cell_type": "code",
   "execution_count": 23,
   "id": "4f4ea91a-1824-42e4-9e48-ae3aae35a45d",
   "metadata": {},
   "outputs": [
    {
     "data": {
      "text/html": [
       "<div>\n",
       "<style scoped>\n",
       "    .dataframe tbody tr th:only-of-type {\n",
       "        vertical-align: middle;\n",
       "    }\n",
       "\n",
       "    .dataframe tbody tr th {\n",
       "        vertical-align: top;\n",
       "    }\n",
       "\n",
       "    .dataframe thead th {\n",
       "        text-align: right;\n",
       "    }\n",
       "</style>\n",
       "<table border=\"1\" class=\"dataframe\">\n",
       "  <thead>\n",
       "    <tr style=\"text-align: right;\">\n",
       "      <th></th>\n",
       "      <th>Customer Name</th>\n",
       "      <th>Customer Email</th>\n",
       "      <th>Customer Age</th>\n",
       "      <th>Customer Gender</th>\n",
       "      <th>Product Purchased</th>\n",
       "      <th>Date of Purchase</th>\n",
       "      <th>Ticket Type</th>\n",
       "      <th>Ticket Subject</th>\n",
       "      <th>Ticket Description</th>\n",
       "      <th>Ticket Status</th>\n",
       "      <th>...</th>\n",
       "      <th>First Response Time</th>\n",
       "      <th>Time to Resolution</th>\n",
       "      <th>Customer Satisfaction Rating</th>\n",
       "      <th>Ticket Content</th>\n",
       "      <th>label</th>\n",
       "      <th>Customer Age Group</th>\n",
       "      <th>User Intent</th>\n",
       "      <th>Ticket Sentiment</th>\n",
       "      <th>Ticket Sentiment Score</th>\n",
       "      <th>Ticket Description Processed</th>\n",
       "    </tr>\n",
       "    <tr>\n",
       "      <th>Ticket ID</th>\n",
       "      <th></th>\n",
       "      <th></th>\n",
       "      <th></th>\n",
       "      <th></th>\n",
       "      <th></th>\n",
       "      <th></th>\n",
       "      <th></th>\n",
       "      <th></th>\n",
       "      <th></th>\n",
       "      <th></th>\n",
       "      <th></th>\n",
       "      <th></th>\n",
       "      <th></th>\n",
       "      <th></th>\n",
       "      <th></th>\n",
       "      <th></th>\n",
       "      <th></th>\n",
       "      <th></th>\n",
       "      <th></th>\n",
       "      <th></th>\n",
       "      <th></th>\n",
       "    </tr>\n",
       "  </thead>\n",
       "  <tbody>\n",
       "    <tr>\n",
       "      <th>1</th>\n",
       "      <td>Marisa Obrien</td>\n",
       "      <td>carrollallison@example.com</td>\n",
       "      <td>32</td>\n",
       "      <td>Other</td>\n",
       "      <td>GoPro Hero</td>\n",
       "      <td>2021-03-22</td>\n",
       "      <td>Technical issue</td>\n",
       "      <td>Product setup</td>\n",
       "      <td>I'm having an issue with the {product_purchase...</td>\n",
       "      <td>Pending Customer Response</td>\n",
       "      <td>...</td>\n",
       "      <td>2023-06-01 12:15:36</td>\n",
       "      <td>NaN</td>\n",
       "      <td>NaN</td>\n",
       "      <td>Ticket Type: Technical issue, Ticket Subject: ...</td>\n",
       "      <td>4</td>\n",
       "      <td>Middle</td>\n",
       "      <td>Help with Product Setup</td>\n",
       "      <td>NEGATIVE</td>\n",
       "      <td>0.994166</td>\n",
       "      <td>Your billing zip code is: 71701. We appreciat...</td>\n",
       "    </tr>\n",
       "    <tr>\n",
       "      <th>2</th>\n",
       "      <td>Jessica Rios</td>\n",
       "      <td>clarkeashley@example.com</td>\n",
       "      <td>42</td>\n",
       "      <td>Female</td>\n",
       "      <td>LG Smart TV</td>\n",
       "      <td>2021-05-22</td>\n",
       "      <td>Technical issue</td>\n",
       "      <td>Peripheral compatibility</td>\n",
       "      <td>I'm having an issue with the {product_purchase...</td>\n",
       "      <td>Pending Customer Response</td>\n",
       "      <td>...</td>\n",
       "      <td>2023-06-01 16:45:38</td>\n",
       "      <td>NaN</td>\n",
       "      <td>NaN</td>\n",
       "      <td>Ticket Type: Technical issue, Ticket Subject: ...</td>\n",
       "      <td>4</td>\n",
       "      <td>Middle</td>\n",
       "      <td>Check Peripheral Compatibility</td>\n",
       "      <td>NEGATIVE</td>\n",
       "      <td>0.693675</td>\n",
       "      <td>If you need to change an existing product. If...</td>\n",
       "    </tr>\n",
       "    <tr>\n",
       "      <th>3</th>\n",
       "      <td>Christopher Robbins</td>\n",
       "      <td>gonzalestracy@example.com</td>\n",
       "      <td>48</td>\n",
       "      <td>Other</td>\n",
       "      <td>Dell XPS</td>\n",
       "      <td>2020-07-14</td>\n",
       "      <td>Technical issue</td>\n",
       "      <td>Network problem</td>\n",
       "      <td>I'm facing a problem with my {product_purchase...</td>\n",
       "      <td>Closed</td>\n",
       "      <td>...</td>\n",
       "      <td>2023-06-01 11:14:38</td>\n",
       "      <td>2023-06-01 18:05:38</td>\n",
       "      <td>3.0</td>\n",
       "      <td>Ticket Type: Technical issue, Ticket Subject: ...</td>\n",
       "      <td>2</td>\n",
       "      <td>Elder</td>\n",
       "      <td>Resolve Network Problem</td>\n",
       "      <td>NEGATIVE</td>\n",
       "      <td>0.999586</td>\n",
       "      <td>I'm facing a problem with my {product_purchase...</td>\n",
       "    </tr>\n",
       "    <tr>\n",
       "      <th>4</th>\n",
       "      <td>Christina Dillon</td>\n",
       "      <td>bradleyolson@example.org</td>\n",
       "      <td>27</td>\n",
       "      <td>Female</td>\n",
       "      <td>Microsoft Office</td>\n",
       "      <td>2020-11-13</td>\n",
       "      <td>Billing inquiry</td>\n",
       "      <td>Account access</td>\n",
       "      <td>I'm having an issue with the {product_purchase...</td>\n",
       "      <td>Closed</td>\n",
       "      <td>...</td>\n",
       "      <td>2023-06-01 07:29:40</td>\n",
       "      <td>2023-06-01 01:57:40</td>\n",
       "      <td>3.0</td>\n",
       "      <td>Ticket Type: Billing inquiry, Ticket Subject: ...</td>\n",
       "      <td>4</td>\n",
       "      <td>Younger</td>\n",
       "      <td>Recover Account Access</td>\n",
       "      <td>NEGATIVE</td>\n",
       "      <td>0.990158</td>\n",
       "      <td>If you have a problem you're interested in an...</td>\n",
       "    </tr>\n",
       "    <tr>\n",
       "      <th>5</th>\n",
       "      <td>Alexander Carroll</td>\n",
       "      <td>bradleymark@example.com</td>\n",
       "      <td>67</td>\n",
       "      <td>Female</td>\n",
       "      <td>Autodesk AutoCAD</td>\n",
       "      <td>2020-02-04</td>\n",
       "      <td>Billing inquiry</td>\n",
       "      <td>Data loss</td>\n",
       "      <td>I'm having an issue with the {product_purchase...</td>\n",
       "      <td>Closed</td>\n",
       "      <td>...</td>\n",
       "      <td>2023-06-01 00:12:42</td>\n",
       "      <td>2023-06-01 19:53:42</td>\n",
       "      <td>1.0</td>\n",
       "      <td>Ticket Type: Billing inquiry, Ticket Subject: ...</td>\n",
       "      <td>2</td>\n",
       "      <td>Elder</td>\n",
       "      <td>Battery Draining Too Fast</td>\n",
       "      <td>NEGATIVE</td>\n",
       "      <td>0.997348</td>\n",
       "      <td>Note: The seller is not responsible for any d...</td>\n",
       "    </tr>\n",
       "  </tbody>\n",
       "</table>\n",
       "<p>5 rows × 23 columns</p>\n",
       "</div>"
      ],
      "text/plain": [
       "                 Customer Name              Customer Email  Customer Age  \\\n",
       "Ticket ID                                                                  \n",
       "1                Marisa Obrien  carrollallison@example.com            32   \n",
       "2                 Jessica Rios    clarkeashley@example.com            42   \n",
       "3          Christopher Robbins   gonzalestracy@example.com            48   \n",
       "4             Christina Dillon    bradleyolson@example.org            27   \n",
       "5            Alexander Carroll     bradleymark@example.com            67   \n",
       "\n",
       "          Customer Gender Product Purchased Date of Purchase      Ticket Type  \\\n",
       "Ticket ID                                                                       \n",
       "1                   Other        GoPro Hero       2021-03-22  Technical issue   \n",
       "2                  Female       LG Smart TV       2021-05-22  Technical issue   \n",
       "3                   Other          Dell XPS       2020-07-14  Technical issue   \n",
       "4                  Female  Microsoft Office       2020-11-13  Billing inquiry   \n",
       "5                  Female  Autodesk AutoCAD       2020-02-04  Billing inquiry   \n",
       "\n",
       "                     Ticket Subject  \\\n",
       "Ticket ID                             \n",
       "1                     Product setup   \n",
       "2          Peripheral compatibility   \n",
       "3                   Network problem   \n",
       "4                    Account access   \n",
       "5                         Data loss   \n",
       "\n",
       "                                          Ticket Description  \\\n",
       "Ticket ID                                                      \n",
       "1          I'm having an issue with the {product_purchase...   \n",
       "2          I'm having an issue with the {product_purchase...   \n",
       "3          I'm facing a problem with my {product_purchase...   \n",
       "4          I'm having an issue with the {product_purchase...   \n",
       "5          I'm having an issue with the {product_purchase...   \n",
       "\n",
       "                       Ticket Status  ...  First Response Time  \\\n",
       "Ticket ID                             ...                        \n",
       "1          Pending Customer Response  ...  2023-06-01 12:15:36   \n",
       "2          Pending Customer Response  ...  2023-06-01 16:45:38   \n",
       "3                             Closed  ...  2023-06-01 11:14:38   \n",
       "4                             Closed  ...  2023-06-01 07:29:40   \n",
       "5                             Closed  ...  2023-06-01 00:12:42   \n",
       "\n",
       "            Time to Resolution Customer Satisfaction Rating  \\\n",
       "Ticket ID                                                     \n",
       "1                          NaN                          NaN   \n",
       "2                          NaN                          NaN   \n",
       "3          2023-06-01 18:05:38                          3.0   \n",
       "4          2023-06-01 01:57:40                          3.0   \n",
       "5          2023-06-01 19:53:42                          1.0   \n",
       "\n",
       "                                              Ticket Content label  \\\n",
       "Ticket ID                                                            \n",
       "1          Ticket Type: Technical issue, Ticket Subject: ...     4   \n",
       "2          Ticket Type: Technical issue, Ticket Subject: ...     4   \n",
       "3          Ticket Type: Technical issue, Ticket Subject: ...     2   \n",
       "4          Ticket Type: Billing inquiry, Ticket Subject: ...     4   \n",
       "5          Ticket Type: Billing inquiry, Ticket Subject: ...     2   \n",
       "\n",
       "           Customer Age Group                     User Intent  \\\n",
       "Ticket ID                                                       \n",
       "1                      Middle         Help with Product Setup   \n",
       "2                      Middle  Check Peripheral Compatibility   \n",
       "3                       Elder         Resolve Network Problem   \n",
       "4                     Younger          Recover Account Access   \n",
       "5                       Elder       Battery Draining Too Fast   \n",
       "\n",
       "           Ticket Sentiment Ticket Sentiment Score  \\\n",
       "Ticket ID                                            \n",
       "1                  NEGATIVE               0.994166   \n",
       "2                  NEGATIVE               0.693675   \n",
       "3                  NEGATIVE               0.999586   \n",
       "4                  NEGATIVE               0.990158   \n",
       "5                  NEGATIVE               0.997348   \n",
       "\n",
       "                                Ticket Description Processed  \n",
       "Ticket ID                                                     \n",
       "1           Your billing zip code is: 71701. We appreciat...  \n",
       "2           If you need to change an existing product. If...  \n",
       "3          I'm facing a problem with my {product_purchase...  \n",
       "4           If you have a problem you're interested in an...  \n",
       "5           Note: The seller is not responsible for any d...  \n",
       "\n",
       "[5 rows x 23 columns]"
      ]
     },
     "execution_count": 23,
     "metadata": {},
     "output_type": "execute_result"
    }
   ],
   "source": [
    "df.head()"
   ]
  },
  {
   "cell_type": "code",
   "execution_count": 24,
   "id": "6de99ada-ab2c-4235-83be-92a80adf4e1f",
   "metadata": {},
   "outputs": [
    {
     "data": {
      "text/plain": [
       "Ticket Sentiment\n",
       "NEGATIVE    7495\n",
       "POSITIVE     543\n",
       "Name: count, dtype: int64"
      ]
     },
     "execution_count": 24,
     "metadata": {},
     "output_type": "execute_result"
    }
   ],
   "source": [
    "df[\"Ticket Sentiment\"].value_counts()"
   ]
  },
  {
   "cell_type": "code",
   "execution_count": 25,
   "id": "e63e06eb-e147-479c-b34c-cd89d96d5d37",
   "metadata": {},
   "outputs": [
    {
     "data": {
      "text/plain": [
       "count    7495.000000\n",
       "mean        0.987993\n",
       "std         0.049115\n",
       "min         0.507280\n",
       "25%         0.997095\n",
       "50%         0.999082\n",
       "75%         0.999631\n",
       "max         0.999823\n",
       "Name: Ticket Sentiment Score, dtype: float64"
      ]
     },
     "execution_count": 25,
     "metadata": {},
     "output_type": "execute_result"
    }
   ],
   "source": [
    "df[df[\"Ticket Sentiment\"] == \"NEGATIVE\"][\"Ticket Sentiment Score\"].describe()"
   ]
  },
  {
   "cell_type": "code",
   "execution_count": 26,
   "id": "550d32d3-87a4-491c-9ccb-f78b03475f5e",
   "metadata": {},
   "outputs": [
    {
     "data": {
      "text/plain": [
       "7146"
      ]
     },
     "execution_count": 26,
     "metadata": {},
     "output_type": "execute_result"
    }
   ],
   "source": [
    "len(df[(df[\"Ticket Sentiment\"] == \"NEGATIVE\") & (df[\"Ticket Sentiment Score\"] > 0.95)])"
   ]
  },
  {
   "cell_type": "markdown",
   "id": "221dd209-88e2-4a2a-8af5-706f80ae0289",
   "metadata": {},
   "source": [
    "Most of the ticket are negative with high score, so I use the following rule: if the tickets are satisfied all of the following:\n",
    "- User intent in escalated_intents\n",
    "- Negative ticket with high score (>0.95)\n",
    "- Priority is Critical or High"
   ]
  },
  {
   "cell_type": "code",
   "execution_count": 27,
   "id": "e7d9f64c-07b7-49b5-b083-933c8b34ef0a",
   "metadata": {},
   "outputs": [],
   "source": [
    "sentiment_condition = (df[\"Ticket Sentiment\"] == \"NEGATIVE\") & (df[\"Ticket Sentiment Score\"] > 0.95)\n",
    "priority_condition = df[\"Ticket Priority\"].isin([\"Critical\", \"High\"])\n",
    "intent_condition = df[\"User Intent\"].isin(escalated_intents)\n",
    "\n",
    "filtered_df = df[sentiment_condition & priority_condition & intent_condition]"
   ]
  },
  {
   "cell_type": "code",
   "execution_count": 28,
   "id": "d086ea74-c4e9-4ba3-81d8-8fc33c39d90e",
   "metadata": {},
   "outputs": [
    {
     "data": {
      "text/plain": [
       "0.3215974122916148"
      ]
     },
     "execution_count": 28,
     "metadata": {},
     "output_type": "execute_result"
    }
   ],
   "source": [
    "len(filtered_df) / len(df)"
   ]
  },
  {
   "cell_type": "markdown",
   "id": "d85896ba-32b5-46c3-b6d0-1376928694f8",
   "metadata": {},
   "source": [
    "Around 30% of the ticket is escalated to human, which is a reasonable number"
   ]
  },
  {
   "cell_type": "code",
   "execution_count": 29,
   "id": "64e16ef8-55af-42fa-8876-6ecda907cb89",
   "metadata": {},
   "outputs": [],
   "source": [
    "df[\"Human Escalated\"] = False\n",
    "df.loc[sentiment_condition & priority_condition & intent_condition, \"Human Escalated\"] = True"
   ]
  },
  {
   "cell_type": "code",
   "execution_count": 30,
   "id": "72f97721-6df5-4b82-9112-4c50cab82609",
   "metadata": {},
   "outputs": [
    {
     "name": "stdout",
     "output_type": "stream",
     "text": [
      "Ticket Type: Billing inquiry, Ticket Subject: Display issue, Ticket Description: I've accidentally deleted important data from my {product_purchased}. Is there any way to recover the deleted files? I need them urgently. Your Name should also be included in the account list. I did not have any data or This problem started occurring after the recent software update. I haven't made any other changes to the device.\n",
      "----------------------------------------\n",
      "Ticket Type: Refund request, Ticket Subject: Display issue, Ticket Description:  You were able to purchase the product at the store. Please report any problems you can. Sorry, there are no items for purchase. I've already contacted customer support multiple times, but the issue remains unresolved.\n",
      "----------------------------------------\n",
      "Ticket Type: Technical issue, Ticket Subject: Refund request, Ticket Description:  Sell for 30-35% (I also bought a 2.5mm and I'm getting stuck). Buy for 80-100% ( The issue I'm facing is intermittent. Sometimes it works fine, but other times it acts up unexpectedly.\n",
      "----------------------------------------\n",
      "Ticket Type: Technical issue, Ticket Subject: Account access, Ticket Description:  You are using a different browser than the one I'm using. I've performed a factory reset on my {product_purchased}, hoping it would resolve the problem, but it didn't help.\n",
      "----------------------------------------\n",
      "Ticket Type: Billing inquiry, Ticket Subject: Hardware issue, Ticket Description: There seems to be a hardware problem with my {product_purchased}. The screen is flickering, and I'm unable to use it. What should I do? I'll try my best to fix it now. I could get a I've reviewed the troubleshooting steps on the official support website, but they didn't resolve the problem.\n",
      "----------------------------------------\n"
     ]
    }
   ],
   "source": [
    "for d in df[df[\"Human Escalated\"]].tail(5)[\"Ticket Content\"]:\n",
    "    print(d)\n",
    "    print(\"-\" * 40)"
   ]
  },
  {
   "cell_type": "markdown",
   "id": "95122b47-9d69-4b31-90aa-105bddbb6fa5",
   "metadata": {},
   "source": [
    "Since the 'Human Escalated' label is generated by a rule-based system using sentiment, priority, and intent, and produces reasonable results, we can use it as a pipeline to determine whether a ticket should be escalated to a human. However, I will attempt to build an AI model that classifies tickets based solely on their content, using the rule-based labels as targets, to evaluate whether the classifier can achieve high performance."
   ]
  },
  {
   "cell_type": "code",
   "execution_count": 31,
   "id": "19332084-c0c6-4afc-aca8-b0fa2124eeb8",
   "metadata": {},
   "outputs": [
    {
     "data": {
      "text/plain": [
       "torch.Size([8077, 768])"
      ]
     },
     "execution_count": 31,
     "metadata": {},
     "output_type": "execute_result"
    }
   ],
   "source": [
    "sentence_embeddings.shape"
   ]
  },
  {
   "cell_type": "code",
   "execution_count": 41,
   "id": "45113444-d6dc-4568-ba5a-ab03192ec35d",
   "metadata": {},
   "outputs": [],
   "source": [
    "import torch\n",
    "import torch.nn as nn\n",
    "import torch.nn.functional as F\n",
    "\n",
    "class TicketEscalationClassifier(nn.Module):\n",
    "    def __init__(self, embedding_dim):\n",
    "        super(TicketEscalationClassifier, self).__init__()\n",
    "        self.fc1 = nn.Linear(embedding_dim, 128)\n",
    "        self.dropout = nn.Dropout(0.3)\n",
    "        self.fc2 = nn.Linear(128, 1)  \n",
    "\n",
    "    def forward(self, x):\n",
    "        x = F.relu(self.fc1(x))\n",
    "        x = self.dropout(x)\n",
    "        x = torch.sigmoid(self.fc2(x)).squeeze(1)  \n",
    "        return x    \n",
    "\n",
    "def collate_fn(batch):\n",
    "    idxs = [item[\"idx\"] for item in batch]\n",
    "    labels = [item[\"Human Escalated\"] for item in batch]\n",
    "    return idxs, labels"
   ]
  },
  {
   "cell_type": "code",
   "execution_count": 33,
   "id": "f81d3d3a-8ff2-4007-bfe8-c83aede6c0e8",
   "metadata": {},
   "outputs": [
    {
     "data": {
      "text/plain": [
       "Ticket ID\n",
       "1       False\n",
       "2       False\n",
       "3       False\n",
       "4       False\n",
       "5       False\n",
       "        ...  \n",
       "8465    False\n",
       "8466     True\n",
       "8467     True\n",
       "8468    False\n",
       "8469     True\n",
       "Name: Human Escalated, Length: 8038, dtype: bool"
      ]
     },
     "execution_count": 33,
     "metadata": {},
     "output_type": "execute_result"
    }
   ],
   "source": [
    "df[\"Human Escalated\"]"
   ]
  },
  {
   "cell_type": "code",
   "execution_count": 34,
   "id": "a52c1744-1b57-48d3-8663-1f85bb559c1b",
   "metadata": {},
   "outputs": [],
   "source": [
    "#Redefine ticket dataset with Human Escalated label\n",
    "class TicketDataset(Dataset):\n",
    "    def __init__(self, dataframe):\n",
    "        self.df = dataframe        \n",
    "\n",
    "    def __len__(self):\n",
    "        return len(self.df)\n",
    "\n",
    "    def __getitem__(self, idx):\n",
    "        row = self.df.iloc[idx]\n",
    "        return {\n",
    "            \"idx\": idx, \n",
    "            \"label\": row[\"Human Escalated\"].astype(int)\n",
    "        }\n",
    "\n",
    "def collate_fn(batch):\n",
    "    idxs = [item[\"idx\"] for item in batch]\n",
    "    labels = [float(item[\"label\"]) for item in batch]\n",
    "    return torch.tensor(idxs), torch.tensor(labels)"
   ]
  },
  {
   "cell_type": "code",
   "execution_count": 35,
   "id": "1904a7ef-b06c-40b7-a940-cbca3bd5dc09",
   "metadata": {},
   "outputs": [],
   "source": [
    "from torch.utils.data import random_split, DataLoader\n",
    "\n",
    "dataset = TicketDataset(df)  \n",
    "dataloader = DataLoader(dataset, batch_size=16, collate_fn=collate_fn)\n",
    "\n",
    "total_size = len(dataset)\n",
    "train_size = int(0.8 * total_size)\n",
    "val_size = int(0.1 * total_size)\n",
    "test_size = total_size - train_size - val_size  # Ensure all data is used\n",
    "\n",
    "# Split the dataset\n",
    "train_dataset, val_dataset, test_dataset = random_split(dataset, [train_size, val_size, test_size])\n",
    "train_loader = DataLoader(train_dataset, batch_size=16, shuffle=True, collate_fn=collate_fn)\n",
    "val_loader = DataLoader(val_dataset, batch_size=16, shuffle=False, collate_fn=collate_fn)\n",
    "test_loader = DataLoader(test_dataset, batch_size=16, shuffle=False, collate_fn=collate_fn)"
   ]
  },
  {
   "cell_type": "code",
   "execution_count": 44,
   "id": "7802c39a-5600-4179-9d5b-305952be79f7",
   "metadata": {},
   "outputs": [
    {
     "name": "stdout",
     "output_type": "stream",
     "text": [
      "Epoch 1: Train Loss = 0.7585, Val Accuracy = 0.3263\n",
      "Epoch 2: Train Loss = 0.7062, Val Accuracy = 0.3263\n",
      "Epoch 3: Train Loss = 0.6974, Val Accuracy = 0.3263\n",
      "Epoch 4: Train Loss = 0.6950, Val Accuracy = 0.3263\n",
      "Epoch 5: Train Loss = 0.6941, Val Accuracy = 0.3263\n",
      "Epoch 6: Train Loss = 0.6938, Val Accuracy = 0.3263\n",
      "Epoch 7: Train Loss = 0.6935, Val Accuracy = 0.3263\n",
      "Epoch 8: Train Loss = 0.6934, Val Accuracy = 0.3263\n",
      "Epoch 9: Train Loss = 0.6933, Val Accuracy = 0.3263\n",
      "Epoch 10: Train Loss = 0.6933, Val Accuracy = 0.3263\n",
      "Test Accuracy = 0.3097\n"
     ]
    }
   ],
   "source": [
    "import torch.nn as nn\n",
    "import torch.optim as optim\n",
    "\n",
    "pretrained_sentence_embeddings = sentence_embeddings #Sentence embeddings pretrained by sentence-T5\n",
    "learning_rate = 1e-4\n",
    "\n",
    "model = TicketEscalationClassifier(embedding_dim = pretrained_sentence_embeddings.shape[1]).to(device)\n",
    "criterion = nn.BCEWithLogitsLoss()\n",
    "optimizer = optim.Adam(model.parameters(), lr=learning_rate)\n",
    "epochs = 10\n",
    "\n",
    "# Training loop\n",
    "for epoch in range(epochs):\n",
    "    model.train()\n",
    "    total_loss = 0\n",
    "    for idxs, labels in train_loader:\n",
    "        inputs = pretrained_sentence_embeddings[idxs]\n",
    "        inputs, labels = inputs.to(device), labels.to(device)\n",
    "        optimizer.zero_grad()\n",
    "        logits = model(inputs)\n",
    "        loss = criterion(logits, labels)\n",
    "        loss.backward()\n",
    "        optimizer.step()\n",
    "        total_loss += loss.item()       \n",
    "        \n",
    "    avg_train_loss = total_loss / len(train_loader)\n",
    "\n",
    "    # Validation\n",
    "    model.eval()\n",
    "    correct, total = 0, 0\n",
    "    with torch.no_grad():\n",
    "        for idxs, labels in val_loader:\n",
    "            inputs = pretrained_sentence_embeddings[idxs]\n",
    "            inputs, labels = inputs.to(device), labels.to(device)\n",
    "            \n",
    "            logits = model(inputs)\n",
    "            preds = (torch.sigmoid(logits) > 0.5).long()\n",
    "            correct += (preds == labels).sum().item()\n",
    "            total += labels.size(0)\n",
    "\n",
    "    val_accuracy = correct / total\n",
    "    print(f\"Epoch {epoch+1}: Train Loss = {avg_train_loss:.4f}, Val Accuracy = {val_accuracy:.4f}\")\n",
    "\n",
    "with torch.no_grad():\n",
    "    for idxs, labels in test_loader:\n",
    "        inputs = pretrained_sentence_embeddings[idxs]\n",
    "        inputs, labels = inputs.to(device), labels.to(device)\n",
    "        \n",
    "        logits = model(inputs)\n",
    "        preds = (torch.sigmoid(logits) > 0.5).long()\n",
    "        correct += (preds == labels).sum().item()\n",
    "        total += labels.size(0)\n",
    "\n",
    "test_accuracy = correct / total\n",
    "print(f\"Test Accuracy = {test_accuracy:.4f}\")"
   ]
  },
  {
   "cell_type": "markdown",
   "id": "76bb9070-dbea-4fda-b0d9-fc0078c4653e",
   "metadata": {},
   "source": [
    "It seems that the ticket content does not provide enough context to predict the labels, as it lacks information about priority. So I suggest combine the sentiment, priority and user intent for detecting escalated tickets."
   ]
  }
 ],
 "metadata": {
  "kernelspec": {
   "display_name": "Python 3 (ipykernel)",
   "language": "python",
   "name": "python3"
  },
  "language_info": {
   "codemirror_mode": {
    "name": "ipython",
    "version": 3
   },
   "file_extension": ".py",
   "mimetype": "text/x-python",
   "name": "python",
   "nbconvert_exporter": "python",
   "pygments_lexer": "ipython3",
   "version": "3.11.11"
  }
 },
 "nbformat": 4,
 "nbformat_minor": 5
}
