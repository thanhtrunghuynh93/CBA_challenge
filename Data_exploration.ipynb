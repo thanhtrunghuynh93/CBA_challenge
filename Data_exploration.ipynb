{
 "cells": [
  {
   "cell_type": "code",
   "execution_count": 1,
   "id": "be838c67-f388-4b09-b721-e73482482622",
   "metadata": {},
   "outputs": [],
   "source": [
    "import pandas as pd\n",
    "\n",
    "df = pd.read_csv(\"customer_support_tickets.csv\")"
   ]
  },
  {
   "cell_type": "markdown",
   "id": "521aa01a-9a9b-4e95-beb5-fbea6e21c789",
   "metadata": {},
   "source": [
    "# Explore the data to get more insight of the dataset\n",
    "The dataset is the tickets from the customers. The structure of the dataset: \n",
    "- Ticket ID: A unique identifier for each ticket.\n",
    "- Customer Name: The name of the customer who raised the ticket.\n",
    "- Customer Email: The email address of the customer (Domain name - @example.com is\n",
    "intentional for user data privacy concern).\n",
    "- Customer Age: The age of the customer.\n",
    "- Customer Gender: The gender of the customer.\n",
    "- Product Purchased: The tech product purchased by the customer.\n",
    "- Date of Purchase: The date when the product was purchased.\n",
    "- Ticket Type: The type of ticket (e.g., technical issue, billing inquiry, product inquiry).\n",
    "- Ticket Subject: The subject/topic of the ticket.\n",
    "- Ticket Description: The description of the customer's issue or inquiry.\n",
    "- Ticket Status: The status of the ticket (e.g., open, closed, pending customer response).\n",
    "- Resolution: The resolution or solution provided for closed tickets.\n",
    "- Ticket Priority: The priority level assigned to the ticket (e.g., low, medium, high, critical).\n",
    "- Ticket Channel: The channel through which the ticket was raised (e.g., email, phone, chat,\n",
    "social media).\n",
    "- First Response Time: The time taken to provide the first response to the customer.\n",
    "- Time to Resolution: The time taken to resolve the ticket.\n",
    "- Customer Satisfaction Rating: The customer's satisfaction rating for closed tickets (on a scale\n",
    "of 1 to 5).\n",
    "\n",
    "Beside the description, the below code will conduct the data exploration and data cleaning"
   ]
  },
  {
   "cell_type": "code",
   "execution_count": 2,
   "id": "385bf000-3148-4ee1-9af6-1b6b1bb40790",
   "metadata": {},
   "outputs": [
    {
     "data": {
      "text/html": [
       "<div>\n",
       "<style scoped>\n",
       "    .dataframe tbody tr th:only-of-type {\n",
       "        vertical-align: middle;\n",
       "    }\n",
       "\n",
       "    .dataframe tbody tr th {\n",
       "        vertical-align: top;\n",
       "    }\n",
       "\n",
       "    .dataframe thead th {\n",
       "        text-align: right;\n",
       "    }\n",
       "</style>\n",
       "<table border=\"1\" class=\"dataframe\">\n",
       "  <thead>\n",
       "    <tr style=\"text-align: right;\">\n",
       "      <th></th>\n",
       "      <th>Ticket ID</th>\n",
       "      <th>Customer Name</th>\n",
       "      <th>Customer Email</th>\n",
       "      <th>Customer Age</th>\n",
       "      <th>Customer Gender</th>\n",
       "      <th>Product Purchased</th>\n",
       "      <th>Date of Purchase</th>\n",
       "      <th>Ticket Type</th>\n",
       "      <th>Ticket Subject</th>\n",
       "      <th>Ticket Description</th>\n",
       "      <th>Ticket Status</th>\n",
       "      <th>Resolution</th>\n",
       "      <th>Ticket Priority</th>\n",
       "      <th>Ticket Channel</th>\n",
       "      <th>First Response Time</th>\n",
       "      <th>Time to Resolution</th>\n",
       "      <th>Customer Satisfaction Rating</th>\n",
       "    </tr>\n",
       "  </thead>\n",
       "  <tbody>\n",
       "    <tr>\n",
       "      <th>0</th>\n",
       "      <td>1</td>\n",
       "      <td>Marisa Obrien</td>\n",
       "      <td>carrollallison@example.com</td>\n",
       "      <td>32</td>\n",
       "      <td>Other</td>\n",
       "      <td>GoPro Hero</td>\n",
       "      <td>2021-03-22</td>\n",
       "      <td>Technical issue</td>\n",
       "      <td>Product setup</td>\n",
       "      <td>I'm having an issue with the {product_purchase...</td>\n",
       "      <td>Pending Customer Response</td>\n",
       "      <td>NaN</td>\n",
       "      <td>Critical</td>\n",
       "      <td>Social media</td>\n",
       "      <td>2023-06-01 12:15:36</td>\n",
       "      <td>NaN</td>\n",
       "      <td>NaN</td>\n",
       "    </tr>\n",
       "    <tr>\n",
       "      <th>1</th>\n",
       "      <td>2</td>\n",
       "      <td>Jessica Rios</td>\n",
       "      <td>clarkeashley@example.com</td>\n",
       "      <td>42</td>\n",
       "      <td>Female</td>\n",
       "      <td>LG Smart TV</td>\n",
       "      <td>2021-05-22</td>\n",
       "      <td>Technical issue</td>\n",
       "      <td>Peripheral compatibility</td>\n",
       "      <td>I'm having an issue with the {product_purchase...</td>\n",
       "      <td>Pending Customer Response</td>\n",
       "      <td>NaN</td>\n",
       "      <td>Critical</td>\n",
       "      <td>Chat</td>\n",
       "      <td>2023-06-01 16:45:38</td>\n",
       "      <td>NaN</td>\n",
       "      <td>NaN</td>\n",
       "    </tr>\n",
       "    <tr>\n",
       "      <th>2</th>\n",
       "      <td>3</td>\n",
       "      <td>Christopher Robbins</td>\n",
       "      <td>gonzalestracy@example.com</td>\n",
       "      <td>48</td>\n",
       "      <td>Other</td>\n",
       "      <td>Dell XPS</td>\n",
       "      <td>2020-07-14</td>\n",
       "      <td>Technical issue</td>\n",
       "      <td>Network problem</td>\n",
       "      <td>I'm facing a problem with my {product_purchase...</td>\n",
       "      <td>Closed</td>\n",
       "      <td>Case maybe show recently my computer follow.</td>\n",
       "      <td>Low</td>\n",
       "      <td>Social media</td>\n",
       "      <td>2023-06-01 11:14:38</td>\n",
       "      <td>2023-06-01 18:05:38</td>\n",
       "      <td>3.0</td>\n",
       "    </tr>\n",
       "    <tr>\n",
       "      <th>3</th>\n",
       "      <td>4</td>\n",
       "      <td>Christina Dillon</td>\n",
       "      <td>bradleyolson@example.org</td>\n",
       "      <td>27</td>\n",
       "      <td>Female</td>\n",
       "      <td>Microsoft Office</td>\n",
       "      <td>2020-11-13</td>\n",
       "      <td>Billing inquiry</td>\n",
       "      <td>Account access</td>\n",
       "      <td>I'm having an issue with the {product_purchase...</td>\n",
       "      <td>Closed</td>\n",
       "      <td>Try capital clearly never color toward story.</td>\n",
       "      <td>Low</td>\n",
       "      <td>Social media</td>\n",
       "      <td>2023-06-01 07:29:40</td>\n",
       "      <td>2023-06-01 01:57:40</td>\n",
       "      <td>3.0</td>\n",
       "    </tr>\n",
       "    <tr>\n",
       "      <th>4</th>\n",
       "      <td>5</td>\n",
       "      <td>Alexander Carroll</td>\n",
       "      <td>bradleymark@example.com</td>\n",
       "      <td>67</td>\n",
       "      <td>Female</td>\n",
       "      <td>Autodesk AutoCAD</td>\n",
       "      <td>2020-02-04</td>\n",
       "      <td>Billing inquiry</td>\n",
       "      <td>Data loss</td>\n",
       "      <td>I'm having an issue with the {product_purchase...</td>\n",
       "      <td>Closed</td>\n",
       "      <td>West decision evidence bit.</td>\n",
       "      <td>Low</td>\n",
       "      <td>Email</td>\n",
       "      <td>2023-06-01 00:12:42</td>\n",
       "      <td>2023-06-01 19:53:42</td>\n",
       "      <td>1.0</td>\n",
       "    </tr>\n",
       "  </tbody>\n",
       "</table>\n",
       "</div>"
      ],
      "text/plain": [
       "   Ticket ID        Customer Name              Customer Email  Customer Age  \\\n",
       "0          1        Marisa Obrien  carrollallison@example.com            32   \n",
       "1          2         Jessica Rios    clarkeashley@example.com            42   \n",
       "2          3  Christopher Robbins   gonzalestracy@example.com            48   \n",
       "3          4     Christina Dillon    bradleyolson@example.org            27   \n",
       "4          5    Alexander Carroll     bradleymark@example.com            67   \n",
       "\n",
       "  Customer Gender Product Purchased Date of Purchase      Ticket Type  \\\n",
       "0           Other        GoPro Hero       2021-03-22  Technical issue   \n",
       "1          Female       LG Smart TV       2021-05-22  Technical issue   \n",
       "2           Other          Dell XPS       2020-07-14  Technical issue   \n",
       "3          Female  Microsoft Office       2020-11-13  Billing inquiry   \n",
       "4          Female  Autodesk AutoCAD       2020-02-04  Billing inquiry   \n",
       "\n",
       "             Ticket Subject  \\\n",
       "0             Product setup   \n",
       "1  Peripheral compatibility   \n",
       "2           Network problem   \n",
       "3            Account access   \n",
       "4                 Data loss   \n",
       "\n",
       "                                  Ticket Description  \\\n",
       "0  I'm having an issue with the {product_purchase...   \n",
       "1  I'm having an issue with the {product_purchase...   \n",
       "2  I'm facing a problem with my {product_purchase...   \n",
       "3  I'm having an issue with the {product_purchase...   \n",
       "4  I'm having an issue with the {product_purchase...   \n",
       "\n",
       "               Ticket Status                                     Resolution  \\\n",
       "0  Pending Customer Response                                            NaN   \n",
       "1  Pending Customer Response                                            NaN   \n",
       "2                     Closed   Case maybe show recently my computer follow.   \n",
       "3                     Closed  Try capital clearly never color toward story.   \n",
       "4                     Closed                    West decision evidence bit.   \n",
       "\n",
       "  Ticket Priority Ticket Channel  First Response Time   Time to Resolution  \\\n",
       "0        Critical   Social media  2023-06-01 12:15:36                  NaN   \n",
       "1        Critical           Chat  2023-06-01 16:45:38                  NaN   \n",
       "2             Low   Social media  2023-06-01 11:14:38  2023-06-01 18:05:38   \n",
       "3             Low   Social media  2023-06-01 07:29:40  2023-06-01 01:57:40   \n",
       "4             Low          Email  2023-06-01 00:12:42  2023-06-01 19:53:42   \n",
       "\n",
       "   Customer Satisfaction Rating  \n",
       "0                           NaN  \n",
       "1                           NaN  \n",
       "2                           3.0  \n",
       "3                           3.0  \n",
       "4                           1.0  "
      ]
     },
     "execution_count": 2,
     "metadata": {},
     "output_type": "execute_result"
    }
   ],
   "source": [
    "#Print the first 5 rows\n",
    "df.head(5)"
   ]
  },
  {
   "cell_type": "code",
   "execution_count": 3,
   "id": "0456af61-1f47-424e-b13d-cfbc9ad18aca",
   "metadata": {},
   "outputs": [
    {
     "data": {
      "text/plain": [
       "8469"
      ]
     },
     "execution_count": 3,
     "metadata": {},
     "output_type": "execute_result"
    }
   ],
   "source": [
    "#The size of the dataset\n",
    "len(df)"
   ]
  },
  {
   "cell_type": "code",
   "execution_count": 4,
   "id": "80b3f67d-a301-4a83-845e-590992574001",
   "metadata": {},
   "outputs": [
    {
     "data": {
      "text/html": [
       "<div>\n",
       "<style scoped>\n",
       "    .dataframe tbody tr th:only-of-type {\n",
       "        vertical-align: middle;\n",
       "    }\n",
       "\n",
       "    .dataframe tbody tr th {\n",
       "        vertical-align: top;\n",
       "    }\n",
       "\n",
       "    .dataframe thead th {\n",
       "        text-align: right;\n",
       "    }\n",
       "</style>\n",
       "<table border=\"1\" class=\"dataframe\">\n",
       "  <thead>\n",
       "    <tr style=\"text-align: right;\">\n",
       "      <th></th>\n",
       "      <th>Ticket ID</th>\n",
       "      <th>Customer Age</th>\n",
       "      <th>Customer Satisfaction Rating</th>\n",
       "    </tr>\n",
       "  </thead>\n",
       "  <tbody>\n",
       "    <tr>\n",
       "      <th>count</th>\n",
       "      <td>8469.000000</td>\n",
       "      <td>8469.000000</td>\n",
       "      <td>2769.000000</td>\n",
       "    </tr>\n",
       "    <tr>\n",
       "      <th>mean</th>\n",
       "      <td>4235.000000</td>\n",
       "      <td>44.026804</td>\n",
       "      <td>2.991333</td>\n",
       "    </tr>\n",
       "    <tr>\n",
       "      <th>std</th>\n",
       "      <td>2444.934048</td>\n",
       "      <td>15.296112</td>\n",
       "      <td>1.407016</td>\n",
       "    </tr>\n",
       "    <tr>\n",
       "      <th>min</th>\n",
       "      <td>1.000000</td>\n",
       "      <td>18.000000</td>\n",
       "      <td>1.000000</td>\n",
       "    </tr>\n",
       "    <tr>\n",
       "      <th>25%</th>\n",
       "      <td>2118.000000</td>\n",
       "      <td>31.000000</td>\n",
       "      <td>2.000000</td>\n",
       "    </tr>\n",
       "    <tr>\n",
       "      <th>50%</th>\n",
       "      <td>4235.000000</td>\n",
       "      <td>44.000000</td>\n",
       "      <td>3.000000</td>\n",
       "    </tr>\n",
       "    <tr>\n",
       "      <th>75%</th>\n",
       "      <td>6352.000000</td>\n",
       "      <td>57.000000</td>\n",
       "      <td>4.000000</td>\n",
       "    </tr>\n",
       "    <tr>\n",
       "      <th>max</th>\n",
       "      <td>8469.000000</td>\n",
       "      <td>70.000000</td>\n",
       "      <td>5.000000</td>\n",
       "    </tr>\n",
       "  </tbody>\n",
       "</table>\n",
       "</div>"
      ],
      "text/plain": [
       "         Ticket ID  Customer Age  Customer Satisfaction Rating\n",
       "count  8469.000000   8469.000000                   2769.000000\n",
       "mean   4235.000000     44.026804                      2.991333\n",
       "std    2444.934048     15.296112                      1.407016\n",
       "min       1.000000     18.000000                      1.000000\n",
       "25%    2118.000000     31.000000                      2.000000\n",
       "50%    4235.000000     44.000000                      3.000000\n",
       "75%    6352.000000     57.000000                      4.000000\n",
       "max    8469.000000     70.000000                      5.000000"
      ]
     },
     "execution_count": 4,
     "metadata": {},
     "output_type": "execute_result"
    }
   ],
   "source": [
    "df.describe()"
   ]
  },
  {
   "cell_type": "code",
   "execution_count": 5,
   "id": "cca8b12c-4cd1-4b69-8397-d4ae2faf1b43",
   "metadata": {},
   "outputs": [
    {
     "name": "stdout",
     "output_type": "stream",
     "text": [
      "<class 'pandas.core.frame.DataFrame'>\n",
      "RangeIndex: 8469 entries, 0 to 8468\n",
      "Data columns (total 17 columns):\n",
      " #   Column                        Non-Null Count  Dtype  \n",
      "---  ------                        --------------  -----  \n",
      " 0   Ticket ID                     8469 non-null   int64  \n",
      " 1   Customer Name                 8469 non-null   object \n",
      " 2   Customer Email                8469 non-null   object \n",
      " 3   Customer Age                  8469 non-null   int64  \n",
      " 4   Customer Gender               8469 non-null   object \n",
      " 5   Product Purchased             8469 non-null   object \n",
      " 6   Date of Purchase              8469 non-null   object \n",
      " 7   Ticket Type                   8469 non-null   object \n",
      " 8   Ticket Subject                8469 non-null   object \n",
      " 9   Ticket Description            8469 non-null   object \n",
      " 10  Ticket Status                 8469 non-null   object \n",
      " 11  Resolution                    2769 non-null   object \n",
      " 12  Ticket Priority               8469 non-null   object \n",
      " 13  Ticket Channel                8469 non-null   object \n",
      " 14  First Response Time           5650 non-null   object \n",
      " 15  Time to Resolution            2769 non-null   object \n",
      " 16  Customer Satisfaction Rating  2769 non-null   float64\n",
      "dtypes: float64(1), int64(2), object(14)\n",
      "memory usage: 1.1+ MB\n"
     ]
    }
   ],
   "source": [
    "df.info()"
   ]
  },
  {
   "cell_type": "markdown",
   "id": "8697b2e0-9726-4815-a6ab-e21a802b7d93",
   "metadata": {},
   "source": [
    "# Handling missing data: \n",
    "There are missing data at Resolution column, First Response Time column, Time to Resolution column, and Customer Satisfaction Rating\n",
    "- The number of non-null Resolution, Time to Resolution, and CSR, are the same, from the description it might be that they are only available for closed tickets\n",
    "- The null First Response Time is unknown, but it may also depends on the ticket status"
   ]
  },
  {
   "cell_type": "code",
   "execution_count": 6,
   "id": "34e146cf-92ca-472e-a7f0-ae62b48eb23b",
   "metadata": {},
   "outputs": [
    {
     "data": {
      "text/plain": [
       "Ticket Status\n",
       "Pending Customer Response    2881\n",
       "Open                         2819\n",
       "Closed                       2769\n",
       "Name: count, dtype: int64"
      ]
     },
     "execution_count": 6,
     "metadata": {},
     "output_type": "execute_result"
    }
   ],
   "source": [
    "df[\"Ticket Status\"].value_counts()"
   ]
  },
  {
   "cell_type": "code",
   "execution_count": 7,
   "id": "e714ce1c-890d-4d54-8bd2-2d66f6e790ec",
   "metadata": {},
   "outputs": [
    {
     "name": "stdout",
     "output_type": "stream",
     "text": [
      "Checking missing Resolution, Time to Resolution, and CSR for closed tickets\n",
      "Num missing Resolution: 0, Time to resolution: 0, Missing rating: 0\n"
     ]
    }
   ],
   "source": [
    "print(\"Checking missing Resolution, Time to Resolution, and CSR for closed tickets\")\n",
    "closed_tickets = df[df[\"Ticket Status\"] == \"Closed\"]\n",
    "missing_res = closed_tickets[\"Resolution\"].isna().sum()\n",
    "missing_time_to_res = closed_tickets[\"Time to Resolution\"].isna().sum()\n",
    "missing_rating = closed_tickets[\"Customer Satisfaction Rating\"].isna().sum()\n",
    "print(f\"Num missing Resolution: {missing_res}, Time to resolution: {missing_time_to_res}, Missing rating: {missing_rating}\")\n"
   ]
  },
  {
   "cell_type": "code",
   "execution_count": 8,
   "id": "fc20eff7-c1cf-4da8-8b76-02973ca66682",
   "metadata": {},
   "outputs": [
    {
     "name": "stdout",
     "output_type": "stream",
     "text": [
      "['Open']\n",
      "5650\n"
     ]
    }
   ],
   "source": [
    "#First Response Time missing \n",
    "print(df[df[\"First Response Time\"].isna()][\"Ticket Status\"].unique())\n",
    "open_tickets = df[df[\"Ticket Status\"] == \"Open\"]\n",
    "print(len(df) - len(open_tickets))"
   ]
  },
  {
   "cell_type": "markdown",
   "id": "d60b1e2a-fa4a-4da6-af59-11d89eba5070",
   "metadata": {},
   "source": [
    "- O1: There are three main type of tickets, based on Ticket Status: Pending, Open, and Closed.\n",
    "- O2: Resolution, Time to Resolution and Customer Satisfaction Rating are available only for Closed ticket, and First Response Time is not available for Open tickets"
   ]
  },
  {
   "cell_type": "markdown",
   "id": "fa17f0e1-6bef-4ea0-b27a-19dbc6c36588",
   "metadata": {},
   "source": [
    "# Data statistics and visualization: \n",
    "- After checking for data sanity, each column of data is explored and visualized to get more insights about customers and their behaviours\n"
   ]
  },
  {
   "cell_type": "code",
   "execution_count": 9,
   "id": "0ffa131b-3717-49ae-81a4-87bb4efab645",
   "metadata": {},
   "outputs": [
    {
     "data": {
      "image/png": "[encoded data removed]",
      "text/plain": [
       "<Figure size 640x480 with 1 Axes>"
      ]
     },
     "metadata": {},
     "output_type": "display_data"
    }
   ],
   "source": [
    "# Customer Age\n",
    "import seaborn as sns\n",
    "import matplotlib.pyplot as plt\n",
    "\n",
    "sns.histplot(df[\"Customer Age\"], bins = 20)\n",
    "plt.xlabel(\"Customer Age\")\n",
    "plt.ylabel(\"Frequency\")\n",
    "plt.show()"
   ]
  },
  {
   "cell_type": "markdown",
   "id": "8affbe55-1390-4215-ac6d-8f03f7080005",
   "metadata": {},
   "source": [
    "- O3: The customer age are equally distributed from 20 to 70"
   ]
  },
  {
   "cell_type": "code",
   "execution_count": 10,
   "id": "ae55dbfb-bcb0-4454-8687-16904fc21ece",
   "metadata": {},
   "outputs": [
    {
     "data": {
      "text/plain": [
       "Customer Gender\n",
       "Male      2896\n",
       "Female    2887\n",
       "Other     2686\n",
       "Name: count, dtype: int64"
      ]
     },
     "execution_count": 10,
     "metadata": {},
     "output_type": "execute_result"
    }
   ],
   "source": [
    "df[\"Customer Gender\"].value_counts()"
   ]
  },
  {
   "cell_type": "markdown",
   "id": "8ac37223-746a-469a-8e3c-c7d5ce302094",
   "metadata": {},
   "source": [
    "- O4: The genders are equally distributed"
   ]
  },
  {
   "cell_type": "code",
   "execution_count": 11,
   "id": "dc1b5c59-2bcc-479e-a34a-6d6d4a67bfb6",
   "metadata": {},
   "outputs": [
    {
     "data": {
      "text/plain": [
       "Product Purchased\n",
       "Canon EOS                         240\n",
       "GoPro Hero                        228\n",
       "Nest Thermostat                   225\n",
       "Amazon Echo                       221\n",
       "Philips Hue Lights                221\n",
       "LG Smart TV                       219\n",
       "Sony Xperia                       217\n",
       "Roomba Robot Vacuum               216\n",
       "Apple AirPods                     213\n",
       "LG OLED                           213\n",
       "iPhone                            212\n",
       "Sony 4K HDR TV                    210\n",
       "LG Washing Machine                208\n",
       "Garmin Forerunner                 208\n",
       "Canon DSLR Camera                 206\n",
       "Nikon D                           204\n",
       "Nintendo Switch Pro Controller    203\n",
       "Google Pixel                      203\n",
       "Fitbit Charge                     202\n",
       "Sony PlayStation                  202\n",
       "Microsoft Office                  200\n",
       "HP Pavilion                       200\n",
       "Amazon Kindle                     198\n",
       "Dyson Vacuum Cleaner              198\n",
       "Google Nest                       198\n",
       "Bose SoundLink Speaker            197\n",
       "Autodesk AutoCAD                  196\n",
       "Microsoft Xbox Controller         196\n",
       "Samsung Galaxy                    194\n",
       "PlayStation                       192\n",
       "Fitbit Versa Smartwatch           191\n",
       "Bose QuietComfort                 190\n",
       "Microsoft Surface                 190\n",
       "Samsung Soundbar                  188\n",
       "Asus ROG                          187\n",
       "Xbox                              187\n",
       "MacBook Pro                       186\n",
       "Dell XPS                          185\n",
       "Lenovo ThinkPad                   183\n",
       "GoPro Action Camera               183\n",
       "Adobe Photoshop                   181\n",
       "Nintendo Switch                   178\n",
       "Name: count, dtype: int64"
      ]
     },
     "execution_count": 11,
     "metadata": {},
     "output_type": "execute_result"
    }
   ],
   "source": [
    "df[\"Product Purchased\"].value_counts()"
   ]
  },
  {
   "cell_type": "markdown",
   "id": "31787750-49a1-4eb7-b3a0-60fea8481feb",
   "metadata": {},
   "source": [
    "- O5: The purchased products are electronic devices. The distribution is pretty balanced. "
   ]
  },
  {
   "cell_type": "code",
   "execution_count": 12,
   "id": "2e58c99d-7a63-42e1-bb2e-a58c07aa3e85",
   "metadata": {},
   "outputs": [
    {
     "data": {
      "image/png": "[encoded data removed]",
      "text/plain": [
       "<Figure size 640x480 with 1 Axes>"
      ]
     },
     "metadata": {},
     "output_type": "display_data"
    }
   ],
   "source": [
    "df[\"Date of Purchase\"] = pd.to_datetime(df[\"Date of Purchase\"])\n",
    "df[\"Date of Purchase\"].describe()\n",
    "\n",
    "sns.histplot(df[\"Date of Purchase\"], bins = 24)\n",
    "plt.xlabel(\"Date\")\n",
    "plt.ylabel(\"Frequency\")\n",
    "plt.show()"
   ]
  },
  {
   "cell_type": "markdown",
   "id": "0272e5b1-e344-4059-93a9-be1249e6fe17",
   "metadata": {},
   "source": [
    "- O6: The dates of purchases of the tickets range from the beginning of 2020 to the end of 2021"
   ]
  },
  {
   "cell_type": "code",
   "execution_count": 13,
   "id": "b391ed79-436a-4989-baa7-810d52021e07",
   "metadata": {},
   "outputs": [
    {
     "data": {
      "text/plain": [
       "Ticket Type\n",
       "Refund request          1752\n",
       "Technical issue         1747\n",
       "Cancellation request    1695\n",
       "Product inquiry         1641\n",
       "Billing inquiry         1634\n",
       "Name: count, dtype: int64"
      ]
     },
     "execution_count": 13,
     "metadata": {},
     "output_type": "execute_result"
    }
   ],
   "source": [
    "df[\"Ticket Type\"].value_counts()"
   ]
  },
  {
   "cell_type": "code",
   "execution_count": 14,
   "id": "5e2f59ef-3d13-410b-8e25-f216ce0cad2b",
   "metadata": {},
   "outputs": [
    {
     "data": {
      "text/plain": [
       "Ticket Subject\n",
       "Refund request              576\n",
       "Software bug                574\n",
       "Product compatibility       567\n",
       "Delivery problem            561\n",
       "Hardware issue              547\n",
       "Battery life                542\n",
       "Network problem             539\n",
       "Installation support        530\n",
       "Product setup               529\n",
       "Payment issue               526\n",
       "Product recommendation      517\n",
       "Account access              509\n",
       "Peripheral compatibility    496\n",
       "Data loss                   491\n",
       "Cancellation request        487\n",
       "Display issue               478\n",
       "Name: count, dtype: int64"
      ]
     },
     "execution_count": 14,
     "metadata": {},
     "output_type": "execute_result"
    }
   ],
   "source": [
    "df[\"Ticket Subject\"].value_counts()"
   ]
  },
  {
   "cell_type": "markdown",
   "id": "37d87255-0791-4a3b-bf02-053f256abb80",
   "metadata": {},
   "source": [
    "- O7: There are 5 types of tickets, corresponding to the users requests: Refund, Technical Issue, Cancellation, Product Inquiry, and Billing Inquiry"
   ]
  },
  {
   "cell_type": "code",
   "execution_count": 15,
   "id": "ab4289ff-f395-4f4f-8d04-bc5873dfa673",
   "metadata": {},
   "outputs": [
    {
     "name": "stdout",
     "output_type": "stream",
     "text": [
      "['Battery life' 'Payment issue' 'Software bug' 'Hardware issue'\n",
      " 'Installation support' 'Product compatibility' 'Network problem'\n",
      " 'Peripheral compatibility' 'Refund request' 'Delivery problem'\n",
      " 'Product recommendation' 'Display issue' 'Data loss'\n",
      " 'Cancellation request' 'Account access' 'Product setup']\n",
      "['Product setup' 'Peripheral compatibility' 'Network problem'\n",
      " 'Installation support' 'Hardware issue' 'Refund request'\n",
      " 'Product recommendation' 'Product compatibility' 'Account access'\n",
      " 'Software bug' 'Display issue' 'Battery life' 'Delivery problem'\n",
      " 'Cancellation request' 'Data loss' 'Payment issue']\n",
      "['Payment issue' 'Data loss' 'Installation support' 'Delivery problem'\n",
      " 'Product setup' 'Cancellation request' 'Product recommendation'\n",
      " 'Network problem' 'Software bug' 'Peripheral compatibility'\n",
      " 'Account access' 'Battery life' 'Hardware issue' 'Refund request'\n",
      " 'Product compatibility' 'Display issue']\n",
      "['Refund request' 'Software bug' 'Account access' 'Payment issue'\n",
      " 'Peripheral compatibility' 'Display issue' 'Product compatibility'\n",
      " 'Installation support' 'Cancellation request' 'Battery life'\n",
      " 'Product recommendation' 'Delivery problem' 'Hardware issue'\n",
      " 'Network problem' 'Product setup' 'Data loss']\n",
      "['Account access' 'Data loss' 'Product setup' 'Product recommendation'\n",
      " 'Cancellation request' 'Product compatibility' 'Payment issue'\n",
      " 'Hardware issue' 'Display issue' 'Delivery problem' 'Refund request'\n",
      " 'Software bug' 'Peripheral compatibility' 'Network problem'\n",
      " 'Installation support' 'Battery life']\n"
     ]
    }
   ],
   "source": [
    "print(df[df[\"Ticket Type\"] == \"Refund request\"][\"Ticket Subject\"].unique())\n",
    "print(df[df[\"Ticket Type\"] == \"Technical issue\"][\"Ticket Subject\"].unique())\n",
    "print(df[df[\"Ticket Type\"] == \"Cancellation request\"][\"Ticket Subject\"].unique())\n",
    "print(df[df[\"Ticket Type\"] == \"Product inquiry\"][\"Ticket Subject\"].unique())\n",
    "print(df[df[\"Ticket Type\"] == \"Billing inquiry\"][\"Ticket Subject\"].unique())"
   ]
  },
  {
   "cell_type": "markdown",
   "id": "8d33875f-a6d6-46d3-a34e-d7d3b260e3ef",
   "metadata": {},
   "source": [
    "- O8: Some Ticket Subject can correspond to different Ticket Type"
   ]
  },
  {
   "cell_type": "code",
   "execution_count": 16,
   "id": "1e8ec00e-4885-4d1c-97f7-e6819dfcdb3c",
   "metadata": {},
   "outputs": [
    {
     "name": "stdout",
     "output_type": "stream",
     "text": [
      "Some example for: Product setup\n",
      "----------------------------------------------------------------------------------------\n",
      "I'm having an issue with the {product_purchased}. Please assist.\n",
      "\n",
      "Your billing zip code is: 71701.\n",
      "\n",
      "We appreciate that you have requested a website address.\n",
      "\n",
      "Please double check your email address. I've tried troubleshooting steps mentioned in the user manual, but the issue persists.\n",
      "----------------------------------------------------------------------------------------\n",
      "I've recently set up my {product_purchased}, but it fails to connect to any available networks. What steps should I take to troubleshoot this issue?\n",
      "\n",
      "I can't find the 'Product_IP' field of the I'm concerned about the security of my {product_purchased} and would like to ensure that my data is safe.\n",
      "----------------------------------------------------------------------------------------\n",
      "I'm having an issue with the {product_purchased}. Please assist.\n",
      "\n",
      "Product Name: TPUBASK3E3KQ0\n",
      "\n",
      "\n",
      "Join Date: Oct 2007 Posts: 11,532\n",
      "\n",
      "Quote: I've recently updated the firmware of my {product_purchased}, and the issue started happening afterward. Could it be related to the update?\n",
      "----------------------------------------------------------------------------------------\n",
      "I'm having an issue with the {product_purchased}. Please assist. {{product_purchased}} must be a valid email address for your order and are valid for one week in advance. Please make your purchases as quickly as possible The issue I'm facing is intermittent. Sometimes it works fine, but other times it acts up unexpectedly.\n",
      "----------------------------------------------------------------------------------------\n",
      "I'm having an issue with the {product_purchased}. Please assist.\n",
      "\n",
      "I'm using a brand new product. What a strange situation.\n",
      "\n",
      "I've just purchased a brand new one.\n",
      "\n",
      "What to do? I've noticed that the issue occurs consistently when I use a specific feature or application on my {product_purchased}.\n",
      "============================================================================================\n",
      "Some example for: Peripheral compatibility\n",
      "----------------------------------------------------------------------------------------\n",
      "I'm having an issue with the {product_purchased}. Please assist.\n",
      "\n",
      "If you need to change an existing product.\n",
      "\n",
      "I'm having an issue with the {product_purchased}. Please assist.\n",
      "\n",
      "If The issue I'm facing is intermittent. Sometimes it works fine, but other times it acts up unexpectedly.\n",
      "----------------------------------------------------------------------------------------\n",
      "I'm having an issue with the {product_purchased}. Please assist. I want to be an active member of our community on YouTube... The issue I'm facing is intermittent. Sometimes it works fine, but other times it acts up unexpectedly.\n",
      "----------------------------------------------------------------------------------------\n",
      "I'm having an issue with the {product_purchased}. Please assist.\n",
      "\n",
      "Thank you! This product was added to your friend's shopping cart at your friend's favorite store.\n",
      "\n",
      "Sorry, your account is not loaded. I've followed the troubleshooting steps mentioned in the user manual, but the issue persists.\n",
      "----------------------------------------------------------------------------------------\n",
      "I've accidentally deleted important data from my {product_purchased}. Is there any way to recover the deleted files? I need them urgently. What can I do to recover them?\n",
      "\n",
      "Product purchases are never recoverable from the database. I'm worried that the issue might be hardware-related and might require repair or replacement.\n",
      "----------------------------------------------------------------------------------------\n",
      "I've forgotten my password for my {product_purchased} account, and the password reset option is not working. How can I recover my account?\n",
      "\n",
      "If you have not used login tokens for the previous 12 months, the login token I've reviewed the troubleshooting steps on the official support website, but they didn't resolve the problem.\n",
      "============================================================================================\n",
      "Some example for: Network problem\n",
      "----------------------------------------------------------------------------------------\n",
      "I'm facing a problem with my {product_purchased}. The {product_purchased} is not turning on. It was working fine until yesterday, but now it doesn't respond.\n",
      "\n",
      "1.8.3 I really I'm using the original charger that came with my {product_purchased}, but it's not charging properly.\n",
      "----------------------------------------------------------------------------------------\n",
      "I'm having an issue with the {product_purchased}. Please assist. We have not yet provided an address or a name for this product. If this website does not exist, please contact us with this information and we will provide it. I need assistance as soon as possible because it's affecting my work and productivity.\n",
      "----------------------------------------------------------------------------------------\n",
      "I'm having an issue with the {product_purchased}. Please assist.\n",
      "\n",
      "Please. Don't.\n",
      "\n",
      "Don't see my issue? Please contact me. I'm unable to find the option to perform the desired action in the {product_purchased}. Could you please guide me through the steps?\n",
      "----------------------------------------------------------------------------------------\n",
      "I'm having an issue with the {product_purchased}. Please assist. Please. Please. I need assistance as soon as possible because it's affecting my work and productivity.\n",
      "----------------------------------------------------------------------------------------\n",
      "I've noticed a software bug in the {product_purchased} app. It's causing data loss and unexpected errors. How can I resolve this issue? For those who live in the U.S., you can use the {product_ I'm unable to find the option to perform the desired action in the {product_purchased}. Could you please guide me through the steps?\n",
      "============================================================================================\n",
      "Some example for: Account access\n",
      "----------------------------------------------------------------------------------------\n",
      "I'm having an issue with the {product_purchased}. Please assist.\n",
      "\n",
      "If you have a problem you're interested in and I'd love to see this happen, please check out the Feedback. I've already contacted customer support multiple times, but the issue remains unresolved.\n",
      "----------------------------------------------------------------------------------------\n",
      "I'm having an issue with the {product_purchased}. Please assist.\n",
      "\n",
      "- Acknowledgement: Thanks to Dan for the tip. When you purchase a new product from my store or from your local retailer, they will also provide I'm concerned about the security of my {product_purchased} and would like to ensure that my data is safe.\n",
      "----------------------------------------------------------------------------------------\n",
      "I'm having an issue with the {product_purchased}. Please assist.\n",
      "\n",
      "1. Do I need to purchase a refund?\n",
      "\n",
      "There is a way to purchase a refund from ZEROHITS, but there's not a I'm unable to find the option to perform the desired action in the {product_purchased}. Could you please guide me through the steps?\n",
      "----------------------------------------------------------------------------------------\n",
      "I'm having an issue with the {product_purchased}. Please assist. I have a new account in the system and a new user. I'm having this issue\n",
      "\n",
      "Error:\n",
      "\n",
      "[System.CollectedMessage.ThrowBack I'm concerned about the security of my {product_purchased} and would like to ensure that my data is safe.\n",
      "----------------------------------------------------------------------------------------\n",
      "I'm having an issue with the {product_purchased}. Please assist. I've got a customer who has sent me a $25 invoice! I want to know if this will correct this.\n",
      "\n",
      "I just downloaded the demo and I I'm experiencing this issue on multiple devices of the same model, so it seems to be a widespread problem.\n",
      "============================================================================================\n",
      "Some example for: Data loss\n",
      "----------------------------------------------------------------------------------------\n",
      "I'm having an issue with the {product_purchased}. Please assist.\n",
      "\n",
      "\n",
      "Note: The seller is not responsible for any damages arising out of the delivery of the battleground game. Please have the game in good condition and shipped to you I've noticed a sudden decrease in battery life on my {product_purchased}. It used to last much longer.\n",
      "----------------------------------------------------------------------------------------\n",
      "I'm having an issue with the {product_purchased}. Please assist. 1-800-799-0808.\n",
      "\n",
      "Product Search: What's New in 2-3-4-5? Report Feedback Customer Service is your best I'm using the original charger that came with my {product_purchased}, but it's not charging properly.\n",
      "----------------------------------------------------------------------------------------\n",
      "I'm having an issue with the {product_purchased}. Please assist. Thank you\n",
      "\n",
      "The customer's rating and reviews are important, but they don't have an impact on your credit score\n",
      "\n",
      "For over mogul financial companies who have I've performed a factory reset on my {product_purchased}, hoping it would resolve the problem, but it didn't help.\n",
      "----------------------------------------------------------------------------------------\n",
      "I'm having an issue with the {product_purchased}. Please assist. 1) Remove the {product_purchased_id}. Please assist. 2) Add the {product_purchased}.Please assist. I've followed the troubleshooting steps mentioned in the user manual, but the issue persists.\n",
      "----------------------------------------------------------------------------------------\n",
      "There seems to be a hardware problem with my {product_purchased}. The screen is flickering, and I'm unable to use it. What should I do?\n",
      "\n",
      "The problem isn't with the monitor, it's because there's a I need assistance as soon as possible because it's affecting my work and productivity.\n",
      "============================================================================================\n",
      "Some example for: Payment issue\n",
      "----------------------------------------------------------------------------------------\n",
      "I'm facing a problem with my {product_purchased}. The {product_purchased} is not turning on. It was working fine until yesterday, but now it doesn't respond. To remove the new {product_purch I've checked for any available software updates for my {product_purchased}, but there are none.\n",
      "----------------------------------------------------------------------------------------\n",
      "My {product_purchased} is making strange noises and not functioning properly. I suspect there might be a hardware issue. Can you please help me with this?\n",
      "\n",
      "} If we can, please send a \"request\" to dav The issue I'm facing is intermittent. Sometimes it works fine, but other times it acts up unexpectedly.\n",
      "----------------------------------------------------------------------------------------\n",
      "I'm having an issue with the {product_purchased}. Please assist. Thanks!\"\n",
      "\n",
      "* [0] - [0] - [0] - [0]\n",
      "\n",
      "If this product is sold and you have not used any I've reviewed the troubleshooting steps on the official support website, but they didn't resolve the problem.\n",
      "----------------------------------------------------------------------------------------\n",
      "I'm having an issue with the {product_purchased}. Please assist.\n",
      "\n",
      "\" -name \"Microsoft Surface Pro. \"\n",
      "\n",
      "\" -version 1.10.2 \"1.10.2\"\n",
      "\n",
      "\" -usage I've checked for any available software updates for my {product_purchased}, but there are none.\n",
      "----------------------------------------------------------------------------------------\n",
      "I'm having an issue with the {product_purchased}. Please assist.\n",
      "\n",
      "}\n",
      "\n",
      "} }\n",
      "\n",
      "function getProductCount () {orters(function ($p ) { // This gets the count for all the items in the The issue I'm facing is intermittent. Sometimes it works fine, but other times it acts up unexpectedly.\n",
      "============================================================================================\n",
      "Some example for: Refund request\n",
      "----------------------------------------------------------------------------------------\n",
      "I'm unable to access my {product_purchased} account. It keeps displaying an 'Invalid Credentials' error, even though I'm using the correct login information. How can I regain access to my account?\n",
      "\n",
      "Solution 1 I'm unable to find the option to perform the desired action in the {product_purchased}. Could you please guide me through the steps?\n",
      "----------------------------------------------------------------------------------------\n",
      "I'm having an issue with the {product_purchased}. Please assist.\n",
      "\n",
      "I'll take care of those. I've performed a factory reset on my {product_purchased}, hoping it would resolve the problem, but it didn't help.\n",
      "----------------------------------------------------------------------------------------\n",
      "My {product_purchased} is making strange noises and not functioning properly. I suspect there might be a hardware issue. Can you please help me with this? Thank you,\n",
      "\n",
      "Thank you for posting.\n",
      "\n",
      "It took me a I'm experiencing this issue on multiple devices of the same model, so it seems to be a widespread problem.\n",
      "----------------------------------------------------------------------------------------\n",
      "I'm unable to access my {product_purchased} account. It keeps displaying an 'Invalid Credentials' error, even though I'm using the correct login information. How can I regain access to my account? If you don't I'm concerned about the security of my {product_purchased} and would like to ensure that my data is safe.\n",
      "----------------------------------------------------------------------------------------\n",
      "I'm having an issue with the {product_purchased}. Please assist. <s3> Please provide the product name, location and shipping address in the Product Overview. <s3> This message will be unread for 12 seconds. I've recently updated the firmware of my {product_purchased}, and the issue started happening afterward. Could it be related to the update?\n",
      "============================================================================================\n",
      "Some example for: Battery life\n",
      "----------------------------------------------------------------------------------------\n",
      "I'm having an issue with the {product_purchased}. Please assist. (Thanks) I will contact all my suppliers and confirm.\n",
      "\n",
      "Please try and find out whether their inventory is currently stocked, or any other reason. I am I've performed a factory reset on my {product_purchased}, hoping it would resolve the problem, but it didn't help.\n",
      "----------------------------------------------------------------------------------------\n",
      "I'm having an issue with the {product_purchased}. Please assist.\n",
      "\n",
      "I was able to get my $50 bag from the vendor, but the bags I was wearing in the show were covered in stickers and the price for those I've tried different settings and configurations on my {product_purchased}, but the issue persists.\n",
      "----------------------------------------------------------------------------------------\n",
      "There seems to be a glitch in the {product_purchased} software. It freezes frequently, making it difficult to use. Can you please provide a solution?\n",
      "\n",
      "\"I'd love to do this on my own. It's a I've noticed a peculiar error message popping up on my {product_purchased} screen. It says '{error_message}'. What does it mean?\n",
      "----------------------------------------------------------------------------------------\n",
      "My {product_purchased} crashed, and I lost all the data stored on it. Is there any way to recover the lost data?\n",
      "\n",
      "Is there any way to recover the lost data? Can it be done remotely from a remote I've noticed a peculiar error message popping up on my {product_purchased} screen. It says '{error_message}'. What does it mean?\n",
      "----------------------------------------------------------------------------------------\n",
      "I'm facing a problem with my {product_purchased}. The {product_purchased} is not turning on. It was working fine until yesterday, but now it doesn't respond. I'm thinking maybe they have a bug. I'm concerned about the security of my {product_purchased} and would like to ensure that my data is safe.\n",
      "============================================================================================\n",
      "Some example for: Installation support\n",
      "----------------------------------------------------------------------------------------\n",
      "I'm having an issue with the {product_purchased}. Please assist. Thank you.\n",
      "\n",
      "{product_purchased} is not the exact type you might prefer, they use the exact same method for different uses. Please help I've recently updated the firmware of my {product_purchased}, and the issue started happening afterward. Could it be related to the update?\n",
      "----------------------------------------------------------------------------------------\n",
      "I'm having an issue with the {product_purchased}. Please assist.\n",
      "\n",
      "The email address should change to: customer@julietr.com, as there is a unique id number unique for each product.\n",
      "\n",
      "You I've tried different settings and configurations on my {product_purchased}, but the issue persists.\n",
      "----------------------------------------------------------------------------------------\n",
      "I'm having an issue with the {product_purchased}. Please assist.\n",
      "\n",
      "3-3 We are in, the first day, at the {product_purchased}. Please assist.\n",
      "\n",
      "3-2 Please assist us I've recently updated the firmware of my {product_purchased}, and the issue started happening afterward. Could it be related to the update?\n",
      "----------------------------------------------------------------------------------------\n",
      "I've recently set up my {product_purchased}, but it fails to connect to any available networks. What steps should I take to troubleshoot this issue?\n",
      "\n",
      "The next step is to resolve this issue if the user is not I've noticed that the issue occurs consistently when I use a specific feature or application on my {product_purchased}.\n",
      "----------------------------------------------------------------------------------------\n",
      "I'm having an issue with the {product_purchased}. Please assist. Your product may be available on other websites with the same keyword or your brand.\n",
      "\n",
      "Thank you. I've noticed a sudden decrease in battery life on my {product_purchased}. It used to last much longer.\n",
      "============================================================================================\n",
      "Some example for: Software bug\n",
      "----------------------------------------------------------------------------------------\n",
      "I'm having an issue with the {product_purchased}. Please assist.\n",
      "\n",
      "4. It is possible that we cannot find some type of text or a product name to identify someone like Mr. Brown.\n",
      "\n",
      "5. On the I've reviewed the troubleshooting steps on the official support website, but they didn't resolve the problem.\n",
      "----------------------------------------------------------------------------------------\n",
      "I'm having an issue with the {product_purchased}. Please assist.\n",
      "\n",
      "I'm having an issue with the product_purchased}. Please assist. Customer Reviewer: My Husband was able to take an order from Apple I've checked for any available software updates for my {product_purchased}, but there are none.\n",
      "----------------------------------------------------------------------------------------\n",
      "I'm having an issue with the {product_purchased}. Please assist.\n",
      "\n",
      "\n",
      "This product is not found on, and should NOT come from, this site.\n",
      "\n",
      "\n",
      "Not sure about what this product covers?\n",
      "\n",
      "Product Description I'm experiencing this issue on multiple devices of the same model, so it seems to be a widespread problem.\n",
      "----------------------------------------------------------------------------------------\n",
      "I'm encountering a software bug in the {product_purchased}. Whenever I try to perform a specific action, the application crashes. Are there any updates or fixes available?\n",
      "\n",
      "There are several packages that run in memory by default. These I'm experiencing this issue on multiple devices of the same model, so it seems to be a widespread problem.\n",
      "----------------------------------------------------------------------------------------\n",
      "I've recently set up my {product_purchased}, but it fails to connect to any available networks. What steps should I take to troubleshoot this issue?.......................................................1. Visit https://forum.ejconop I've reviewed the troubleshooting steps on the official support website, but they didn't resolve the problem.\n",
      "============================================================================================\n",
      "Some example for: Hardware issue\n",
      "----------------------------------------------------------------------------------------\n",
      "I'm having an issue with the {product_purchased}. Please assist.\n",
      "\n",
      "CQW: Why didn't I send him the invoice? Thanks a lot.\n",
      "\n",
      "L: He's like the best customer I've met. I've noticed that the issue occurs consistently when I use a specific feature or application on my {product_purchased}.\n",
      "----------------------------------------------------------------------------------------\n",
      "I'm having an issue with the {product_purchased}. Please assist. We hope that every vendor takes the time it takes in to do the following: \"Remove the product from your account - notify consumers, call them, make their I'm concerned about the security of my {product_purchased} and would like to ensure that my data is safe.\n",
      "----------------------------------------------------------------------------------------\n",
      "I'm having an issue with the {product_purchased}. Please assist. I have to ask for support from you, the customers, before the item's arrival and I can't do that. In the short term, will you pay me I've followed the troubleshooting steps mentioned in the user manual, but the issue persists.\n",
      "----------------------------------------------------------------------------------------\n",
      "I'm having an issue with the {product_purchased}. Please assist. Thank you.\"\n",
      "\n",
      "The issue occurred after Amazon started a tool to deal with a problem like this (see page 36 of the FAQ): \"The product is not I've recently updated the firmware of my {product_purchased}, and the issue started happening afterward. Could it be related to the update?\n",
      "----------------------------------------------------------------------------------------\n",
      "I'm having an issue with the {product_purchased}. Please assist.\n",
      "\n",
      "4.1.7 Add a custom app icon to the app window. Click App Manager. You'll see a list of all of the new apps ( I've checked the device settings and made sure that everything is configured correctly.\n",
      "============================================================================================\n",
      "Some example for: Product recommendation\n",
      "----------------------------------------------------------------------------------------\n",
      "I'm having an issue with the {product_purchased}. Please assist.\n",
      "\n",
      "\n",
      "Please note, you might have already paid for this product, which means spectators are not buying any of the products from the sale as their donations will go straight I've noticed a sudden decrease in battery life on my {product_purchased}. It used to last much longer.\n",
      "----------------------------------------------------------------------------------------\n",
      "I'm having an issue with the {product_purchased}. Please assist. Thank you.\"\n",
      "\n",
      "A statement from the consumer group had been released by Microsoft late on Tuesday afternoon. \"The purchase of this product was made using a contract with I'm using the original charger that came with my {product_purchased}, but it's not charging properly.\n",
      "----------------------------------------------------------------------------------------\n",
      "I've noticed a software bug in the {product_purchased} app. It's causing data loss and unexpected errors. How can I resolve this issue? I need assistance as soon as possible because it's affecting my work and productivity.\n",
      "----------------------------------------------------------------------------------------\n",
      "I've recently set up my {product_purchased}, but it fails to connect to any available networks. What steps should I take to troubleshoot this issue? If you know the answer, please let me know.\n",
      "\n",
      "Do I I've noticed a sudden decrease in battery life on my {product_purchased}. It used to last much longer.\n",
      "----------------------------------------------------------------------------------------\n",
      "I've forgotten my password for my {product_purchased} account, and the password reset option is not working. How can I recover my account?\n",
      "\n",
      "What happens when you lose all of your money without a credit card? The issue I'm facing is intermittent. Sometimes it works fine, but other times it acts up unexpectedly.\n",
      "============================================================================================\n",
      "Some example for: Delivery problem\n",
      "----------------------------------------------------------------------------------------\n",
      "I'm having an issue with the {product_purchased}. Please assist. (And if need be this time, that could help.)\n",
      "\n",
      "1.3.2.1 Update my version to 3.0 or more. The issue I'm facing is intermittent. Sometimes it works fine, but other times it acts up unexpectedly.\n",
      "----------------------------------------------------------------------------------------\n",
      "I'm having an issue with the {product_purchased}. Please assist.\n",
      "\n",
      "If it's not working I can't help you. I've performed a factory reset on my {product_purchased}, hoping it would resolve the problem, but it didn't help.\n",
      "----------------------------------------------------------------------------------------\n",
      "I've recently set up my {product_purchased}, but it fails to connect to any available networks. What steps should I take to troubleshoot this issue? I've tried clearing the cache and data for the {product_purchased} app, but the issue persists.\n",
      "----------------------------------------------------------------------------------------\n",
      "I'm having an issue with the {product_purchased}. Please assist.\n",
      "\n",
      "Product #8\n",
      "\n",
      "4-8-0-1\n",
      "\n",
      "The product code on your product.\n",
      "\n",
      "#Product ID : {product_id I've checked the device settings and made sure that everything is configured correctly.\n",
      "----------------------------------------------------------------------------------------\n",
      "I'm facing a problem with my {product_purchased}. The {product_purchased} is not turning on. It was working fine until yesterday, but now it doesn't respond.\n",
      "\n",
      "I'm using a phone now, I'm unable to find the option to perform the desired action in the {product_purchased}. Could you please guide me through the steps?\n",
      "============================================================================================\n",
      "Some example for: Display issue\n",
      "----------------------------------------------------------------------------------------\n",
      "I'm having an issue with the {product_purchased}. Please assist. {product_purchased} does not represent the price which you received by the day immediately before the shipment date.\n",
      "\n",
      "In many cases, this is the I've noticed a sudden decrease in battery life on my {product_purchased}. It used to last much longer.\n",
      "----------------------------------------------------------------------------------------\n",
      "I'm having an issue with the {product_purchased}. Please assist. If you've received a refund, please contact Customer Service. Otherwise, please call us at 303.938.2837. I'm having an issue with the I'm concerned about the security of my {product_purchased} and would like to ensure that my data is safe.\n",
      "----------------------------------------------------------------------------------------\n",
      "I'm having an issue with the {product_purchased}. Please assist. When I first noticed {product_purchased} the new price of the book was too high. I've already sent out the refund request, but they will I've checked for software updates, and my {product_purchased} is already running the latest version.\n",
      "----------------------------------------------------------------------------------------\n",
      "I'm having an issue with the {product_purchased}. Please assist. 1. It is not allowed to purchase a product from an individual, or for a company in which there are no specific employees or employees, and all products have to I've followed the troubleshooting steps mentioned in the user manual, but the issue persists.\n",
      "----------------------------------------------------------------------------------------\n",
      "I'm having an issue with the {product_purchased}. Please assist.\n",
      "\n",
      "\n",
      "(Beware when I accidentally add a link to your product and the item you selected incorrectly, you may see some data about missing items and it may require This problem started occurring after the recent software update. I haven't made any other changes to the device.\n",
      "============================================================================================\n",
      "Some example for: Cancellation request\n",
      "----------------------------------------------------------------------------------------\n",
      "I'm encountering a software bug in the {product_purchased}. Whenever I try to perform a specific action, the application crashes. Are there any updates or fixes available?\n",
      "\n",
      "On Windows Vista, this is not possible. If you are I've performed a factory reset on my {product_purchased}, hoping it would resolve the problem, but it didn't help.\n",
      "----------------------------------------------------------------------------------------\n",
      "I'm having an issue with the {product_purchased}. Please assist. It's not possible to remove the missing content. I've already contacted customer support multiple times, but the issue remains unresolved.\n",
      "----------------------------------------------------------------------------------------\n",
      "I'm having an issue with the {product_purchased}. Please assist. Thanks\".\n",
      "\n",
      "\"As a result I'm having an issue with the 1.0 patch. Please assist.\"\n",
      "\n",
      "\"All I'm asking is to update I'm concerned about the security of my {product_purchased} and would like to ensure that my data is safe.\n",
      "----------------------------------------------------------------------------------------\n",
      "I'm having an issue with the {product_purchased}. Please assist. Also note: Your information gets deleted every time an article is sent to a website you've never viewed.\n",
      "\n",
      "{Product_id} is a unique identifier in I'm not sure if this issue is specific to my device or if others have reported similar problems.\n",
      "----------------------------------------------------------------------------------------\n",
      "I'm encountering a software bug in the {product_purchased}. Whenever I try to perform a specific action, the application crashes. Are there any updates or fixes available? I don't know about any updates to the product. It's hard I'm unable to find the option to perform the desired action in the {product_purchased}. Could you please guide me through the steps?\n",
      "============================================================================================\n",
      "Some example for: Product compatibility\n",
      "----------------------------------------------------------------------------------------\n",
      "I'm having an issue with the {product_purchased}. Please assist.\n",
      "\n",
      "The seller has sold the item for $29.89. When we receive your replacement, we will exchange the item for a full refund or exchange immediately upon I've already contacted customer support multiple times, but the issue remains unresolved.\n",
      "----------------------------------------------------------------------------------------\n",
      "I've forgotten my password for my {product_purchased} account, and the password reset option is not working. How can I recover my account? I can reset my password by entering the following: My password still valid: password is expired I've recently updated the firmware of my {product_purchased}, and the issue started happening afterward. Could it be related to the update?\n",
      "----------------------------------------------------------------------------------------\n",
      "I'm facing a problem with my {product_purchased}. The {product_purchased} is not turning on. It was working fine until yesterday, but now it doesn't respond.\n",
      "\n",
      "If I'd just switched to a The issue I'm facing is intermittent. Sometimes it works fine, but other times it acts up unexpectedly.\n",
      "----------------------------------------------------------------------------------------\n",
      "I'm having an issue with the {product_purchased}. Please assist.\n",
      "\n",
      "The product_purchased attribute does not exist on your user's product. This is so that you can configure the {product_purchased} I need assistance as soon as possible because it's affecting my work and productivity.\n",
      "----------------------------------------------------------------------------------------\n",
      "I'm having an issue with the {product_purchased}. Please assist.\n",
      "\n",
      "I wanted a picture for my 3DS, but I already bought a lot of items, so I found an online cart: \"Fountain of Dreams Collection I'm unable to find the option to perform the desired action in the {product_purchased}. Could you please guide me through the steps?\n",
      "============================================================================================\n"
     ]
    }
   ],
   "source": [
    "for subject in df[\"Ticket Subject\"].unique():\n",
    "    descriptions = df[df[\"Ticket Subject\"] == subject].head(5)[\"Ticket Description\"]\n",
    "    print(f\"Some example for: {subject}\")\n",
    "    for d in descriptions:\n",
    "        print(\"----------------------------------------------------------------------------------------\")\n",
    "        print(d)                \n",
    "    print(\"============================================================================================\")\n",
    "        "
   ]
  },
  {
   "cell_type": "markdown",
   "id": "76daee61-3a66-4125-8cfd-e929aaf0fcee",
   "metadata": {},
   "source": [
    "- O9: Most of ticket’s content is concise yet clear, allowing it to be categorized by subject. However, some tickets seem to be spam, and some includes code injection."
   ]
  },
  {
   "cell_type": "code",
   "execution_count": 17,
   "id": "4d1429b6-f6c3-410a-8bd0-8a451bf9b405",
   "metadata": {},
   "outputs": [
    {
     "data": {
      "text/plain": [
       "Ticket Priority\n",
       "Medium      2192\n",
       "Critical    2129\n",
       "High        2085\n",
       "Low         2063\n",
       "Name: count, dtype: int64"
      ]
     },
     "execution_count": 17,
     "metadata": {},
     "output_type": "execute_result"
    }
   ],
   "source": [
    "df[\"Ticket Priority\"].value_counts()"
   ]
  },
  {
   "cell_type": "code",
   "execution_count": 18,
   "id": "427ecfe7-b5a5-4d32-bc16-a6ecb589355d",
   "metadata": {},
   "outputs": [
    {
     "data": {
      "text/plain": [
       "Ticket Channel\n",
       "Email           2143\n",
       "Phone           2132\n",
       "Social media    2121\n",
       "Chat            2073\n",
       "Name: count, dtype: int64"
      ]
     },
     "execution_count": 18,
     "metadata": {},
     "output_type": "execute_result"
    }
   ],
   "source": [
    "df[\"Ticket Channel\"].value_counts()"
   ]
  },
  {
   "cell_type": "markdown",
   "id": "b5605161-fc68-4ab4-b681-43cc88a30fda",
   "metadata": {},
   "source": [
    "- O10: The distribution of ticket priority and ticket channel are quite balanced"
   ]
  },
  {
   "cell_type": "code",
   "execution_count": 19,
   "id": "b33d6220-6a68-4cd6-8bac-3f6549219381",
   "metadata": {},
   "outputs": [],
   "source": [
    "#Study the customer rating on closed ticket\n",
    "df_closed = df[df[\"Ticket Status\"] == \"Closed\"].copy()\n",
    "df_closed[\"First Response Time\"] = pd.to_datetime(df_closed[\"First Response Time\"])\n",
    "df_closed[\"Time to Resolution\"] = pd.to_datetime(df_closed[\"Time to Resolution\"])\n",
    "df_closed[\"Processed Time\"] = df_closed[\"Time to Resolution\"] - df_closed[\"First Response Time\"]\n",
    "df_closed[\"Processed Time\"] = df_closed[\"Processed Time\"].dt.total_seconds() / 3600"
   ]
  },
  {
   "cell_type": "code",
   "execution_count": 20,
   "id": "57d86113-6968-413c-840c-4a92b5d2adbd",
   "metadata": {},
   "outputs": [
    {
     "data": {
      "text/plain": [
       "<Axes: >"
      ]
     },
     "execution_count": 20,
     "metadata": {},
     "output_type": "execute_result"
    },
    {
     "data": {
      "image/png": "[encoded data removed]",
      "text/plain": [
       "<Figure size 640x480 with 1 Axes>"
      ]
     },
     "metadata": {},
     "output_type": "display_data"
    }
   ],
   "source": [
    "df_closed[\"Processed Time\"].hist()"
   ]
  },
  {
   "cell_type": "markdown",
   "id": "daf4fe5a-97ec-44af-ae17-4f108d314e7c",
   "metadata": {},
   "source": [
    "- O11: It seems that the Time to Resolution can be either before or after the First Response Time"
   ]
  },
  {
   "cell_type": "code",
   "execution_count": 21,
   "id": "93ed7f98-b95d-49fe-bbfb-b34ac9e54dc5",
   "metadata": {},
   "outputs": [
    {
     "data": {
      "image/png": "[encoded data removed]",
      "text/plain": [
       "<Figure size 800x500 with 1 Axes>"
      ]
     },
     "metadata": {},
     "output_type": "display_data"
    }
   ],
   "source": [
    "plt.figure(figsize=(8, 5))\n",
    "plt.scatter(df_closed[\"Processed Time\"],  \n",
    "            df_closed[\"Customer Satisfaction Rating\"],\n",
    "            alpha=0.5)\n",
    "plt.xlabel(\"Processed Time (hours)\")\n",
    "plt.ylabel(\"Customer Satisfaction Rating\")\n",
    "plt.title(\"Satisfaction vs. Resolution Time\")\n",
    "plt.grid(True)\n",
    "plt.show()"
   ]
  },
  {
   "cell_type": "markdown",
   "id": "a0abd4b1-f81b-42a2-854c-947e8bd895e3",
   "metadata": {},
   "source": [
    "- O12: It seems that the interval between First Response Time and Time to Resolution does not affect much customer satisfaction"
   ]
  },
  {
   "cell_type": "code",
   "execution_count": 22,
   "id": "f69ecf54-036b-45b1-812f-a16059fe84ad",
   "metadata": {},
   "outputs": [
    {
     "data": {
      "image/png": "[encoded data removed]",
      "text/plain": [
       "<Figure size 800x500 with 1 Axes>"
      ]
     },
     "metadata": {},
     "output_type": "display_data"
    }
   ],
   "source": [
    "plt.figure(figsize=(8, 5))\n",
    "sns.boxplot(x=\"Ticket Priority\", y=\"Customer Satisfaction Rating\", data=df_closed)\n",
    "plt.title(\"Customer Satisfaction by Ticket Priority\")\n",
    "plt.show()\n"
   ]
  },
  {
   "cell_type": "code",
   "execution_count": 23,
   "id": "857ea2c1-58fc-46c4-8c85-e8aad8414bc0",
   "metadata": {},
   "outputs": [
    {
     "data": {
      "text/html": [
       "<div>\n",
       "<style scoped>\n",
       "    .dataframe tbody tr th:only-of-type {\n",
       "        vertical-align: middle;\n",
       "    }\n",
       "\n",
       "    .dataframe tbody tr th {\n",
       "        vertical-align: top;\n",
       "    }\n",
       "\n",
       "    .dataframe thead th {\n",
       "        text-align: right;\n",
       "    }\n",
       "</style>\n",
       "<table border=\"1\" class=\"dataframe\">\n",
       "  <thead>\n",
       "    <tr style=\"text-align: right;\">\n",
       "      <th>Customer Satisfaction Rating</th>\n",
       "      <th>1.0</th>\n",
       "      <th>2.0</th>\n",
       "      <th>3.0</th>\n",
       "      <th>4.0</th>\n",
       "      <th>5.0</th>\n",
       "    </tr>\n",
       "    <tr>\n",
       "      <th>Ticket Priority</th>\n",
       "      <th></th>\n",
       "      <th></th>\n",
       "      <th></th>\n",
       "      <th></th>\n",
       "      <th></th>\n",
       "    </tr>\n",
       "  </thead>\n",
       "  <tbody>\n",
       "    <tr>\n",
       "      <th>Critical</th>\n",
       "      <td>152</td>\n",
       "      <td>146</td>\n",
       "      <td>149</td>\n",
       "      <td>138</td>\n",
       "      <td>141</td>\n",
       "    </tr>\n",
       "    <tr>\n",
       "      <th>High</th>\n",
       "      <td>147</td>\n",
       "      <td>142</td>\n",
       "      <td>140</td>\n",
       "      <td>128</td>\n",
       "      <td>148</td>\n",
       "    </tr>\n",
       "    <tr>\n",
       "      <th>Low</th>\n",
       "      <td>119</td>\n",
       "      <td>127</td>\n",
       "      <td>124</td>\n",
       "      <td>149</td>\n",
       "      <td>125</td>\n",
       "    </tr>\n",
       "    <tr>\n",
       "      <th>Medium</th>\n",
       "      <td>135</td>\n",
       "      <td>134</td>\n",
       "      <td>167</td>\n",
       "      <td>128</td>\n",
       "      <td>130</td>\n",
       "    </tr>\n",
       "  </tbody>\n",
       "</table>\n",
       "</div>"
      ],
      "text/plain": [
       "Customer Satisfaction Rating  1.0  2.0  3.0  4.0  5.0\n",
       "Ticket Priority                                      \n",
       "Critical                      152  146  149  138  141\n",
       "High                          147  142  140  128  148\n",
       "Low                           119  127  124  149  125\n",
       "Medium                        135  134  167  128  130"
      ]
     },
     "execution_count": 23,
     "metadata": {},
     "output_type": "execute_result"
    }
   ],
   "source": [
    "df_closed.groupby(\"Ticket Priority\")[\"Customer Satisfaction Rating\"].value_counts().unstack(fill_value=0)\n"
   ]
  },
  {
   "cell_type": "markdown",
   "id": "02b7e542-a096-41ee-8ab7-c836a0d3d7c7",
   "metadata": {},
   "source": [
    "- O13: There are no significant difference between the customer satisfaction level between different type of ticket priority"
   ]
  },
  {
   "cell_type": "code",
   "execution_count": 24,
   "id": "f1e5345c-2a91-43df-9b1b-7adf52e8dd8f",
   "metadata": {},
   "outputs": [
    {
     "data": {
      "image/png": "[encoded data removed]",
      "text/plain": [
       "<Figure size 800x500 with 1 Axes>"
      ]
     },
     "metadata": {},
     "output_type": "display_data"
    }
   ],
   "source": [
    "plt.figure(figsize=(8, 5))\n",
    "sns.boxplot(x=\"Ticket Channel\", y=\"Customer Satisfaction Rating\", data=df_closed)\n",
    "plt.title(\"Customer Satisfaction by Ticket Channel\")\n",
    "plt.show()\n"
   ]
  },
  {
   "cell_type": "code",
   "execution_count": 25,
   "id": "284858dd-c67d-4dd7-a019-c986b5d891c9",
   "metadata": {},
   "outputs": [
    {
     "data": {
      "text/html": [
       "<div>\n",
       "<style scoped>\n",
       "    .dataframe tbody tr th:only-of-type {\n",
       "        vertical-align: middle;\n",
       "    }\n",
       "\n",
       "    .dataframe tbody tr th {\n",
       "        vertical-align: top;\n",
       "    }\n",
       "\n",
       "    .dataframe thead th {\n",
       "        text-align: right;\n",
       "    }\n",
       "</style>\n",
       "<table border=\"1\" class=\"dataframe\">\n",
       "  <thead>\n",
       "    <tr style=\"text-align: right;\">\n",
       "      <th>Customer Satisfaction Rating</th>\n",
       "      <th>1.0</th>\n",
       "      <th>2.0</th>\n",
       "      <th>3.0</th>\n",
       "      <th>4.0</th>\n",
       "      <th>5.0</th>\n",
       "    </tr>\n",
       "    <tr>\n",
       "      <th>Ticket Channel</th>\n",
       "      <th></th>\n",
       "      <th></th>\n",
       "      <th></th>\n",
       "      <th></th>\n",
       "      <th></th>\n",
       "    </tr>\n",
       "  </thead>\n",
       "  <tbody>\n",
       "    <tr>\n",
       "      <th>Chat</th>\n",
       "      <td>125</td>\n",
       "      <td>120</td>\n",
       "      <td>149</td>\n",
       "      <td>134</td>\n",
       "      <td>146</td>\n",
       "    </tr>\n",
       "    <tr>\n",
       "      <th>Email</th>\n",
       "      <td>148</td>\n",
       "      <td>155</td>\n",
       "      <td>132</td>\n",
       "      <td>145</td>\n",
       "      <td>140</td>\n",
       "    </tr>\n",
       "    <tr>\n",
       "      <th>Phone</th>\n",
       "      <td>149</td>\n",
       "      <td>136</td>\n",
       "      <td>140</td>\n",
       "      <td>131</td>\n",
       "      <td>135</td>\n",
       "    </tr>\n",
       "    <tr>\n",
       "      <th>Social media</th>\n",
       "      <td>131</td>\n",
       "      <td>138</td>\n",
       "      <td>159</td>\n",
       "      <td>133</td>\n",
       "      <td>123</td>\n",
       "    </tr>\n",
       "  </tbody>\n",
       "</table>\n",
       "</div>"
      ],
      "text/plain": [
       "Customer Satisfaction Rating  1.0  2.0  3.0  4.0  5.0\n",
       "Ticket Channel                                       \n",
       "Chat                          125  120  149  134  146\n",
       "Email                         148  155  132  145  140\n",
       "Phone                         149  136  140  131  135\n",
       "Social media                  131  138  159  133  123"
      ]
     },
     "execution_count": 25,
     "metadata": {},
     "output_type": "execute_result"
    }
   ],
   "source": [
    "df_closed.groupby(\"Ticket Channel\")[\"Customer Satisfaction Rating\"].value_counts().unstack(fill_value=0)\n"
   ]
  },
  {
   "cell_type": "markdown",
   "id": "afce3e95-53b6-4824-ac97-669d847f6eeb",
   "metadata": {},
   "source": [
    "- O14: The same phenomenon can be seen with different ticket channel"
   ]
  },
  {
   "cell_type": "code",
   "execution_count": 27,
   "id": "52c065e1-b554-4187-a5e3-3c317efe9f60",
   "metadata": {},
   "outputs": [
    {
     "data": {
      "text/plain": [
       "Customer Satisfaction Rating\n",
       "3.0    580\n",
       "1.0    553\n",
       "2.0    549\n",
       "5.0    544\n",
       "4.0    543\n",
       "Name: count, dtype: int64"
      ]
     },
     "execution_count": 27,
     "metadata": {},
     "output_type": "execute_result"
    }
   ],
   "source": [
    "df_closed[\"Customer Satisfaction Rating\"].value_counts()"
   ]
  },
  {
   "cell_type": "markdown",
   "id": "9f21b32b-ac92-49a4-9983-703dcd3ccd88",
   "metadata": {},
   "source": [
    "# Insight summary:\n",
    "- The dataset contains 8469 customer support tickets related to purchases made at an electronics store from January 2020 to December 2021.\n",
    "- The customers' ages are evenly distributed between 20 and 70, and their gender is also evenly distributed.\n",
    "- The products are electronic devices used for entertainment (e.g., gaming consoles, cameras), work (e.g., laptops, office software), and household purposes (e.g., TVs, vacuum cleaners).\n",
    "- There are five ticket types: Refund Request, Technical Issue, Cancellation Request, Product Inquiry, and Billing Inquiry. Additionally, there are 16 ticket subjects that summarize customer needs, and each subject can appear across different ticket types.\n",
    "- There are three ticket statuses: Open, Closed, and Pending. Resolution, Time to Resolution, and Customer Rating are only available for Closed tickets, and First Response Time is only available for Pending and Closed tickets\n",
    "- The Time to Resolution can occur either before or after the First Response Time, and at first glance, the interval between them does not significantly affect the customer rating.\n",
    "- Most of ticket’s description content is concise yet clear, allowing it to be categorized by subject. However, some tickets seem to be spam, and some includes code injection.\n",
    "- There are 4 levels of ticket priority: Critical, High, Medium and Low, distributed equally. No significant customer satisfaction level can be seen between different levels of priority. Spam and injected tickets might be assigned as low priority.\n",
    "- The tickets come from 4 channels: Chat, Email, Phone, and Social media, distributed equally. No significant customer satisfaction level can be seen between the channels.\n",
    "- Customer satisfaction levels are also fairly evenly distributed. It appears that the content of the ticket description plays an important role in determining or predicting customer satisfaction."
   ]
  }
 ],
 "metadata": {
  "kernelspec": {
   "display_name": "Python 3 (ipykernel)",
   "language": "python",
   "name": "python3"
  },
  "language_info": {
   "codemirror_mode": {
    "name": "ipython",
    "version": 3
   },
   "file_extension": ".py",
   "mimetype": "text/x-python",
   "name": "python",
   "nbconvert_exporter": "python",
   "pygments_lexer": "ipython3",
   "version": "3.11.11"
  }
 },
 "nbformat": 4,
 "nbformat_minor": 5
}
